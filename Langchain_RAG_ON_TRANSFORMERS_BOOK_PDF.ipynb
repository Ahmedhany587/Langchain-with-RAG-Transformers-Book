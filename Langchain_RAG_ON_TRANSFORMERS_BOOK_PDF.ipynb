{
  "cells": [
    {
      "cell_type": "markdown",
      "source": [
        "# Insalling Packages"
      ],
      "metadata": {
        "id": "qqOWhpCjZE8i"
      },
      "id": "qqOWhpCjZE8i"
    },
    {
      "cell_type": "code",
      "source": [
        "!pip install transformers faiss-gpu huggingface weaviate-client pypdf langchain langchain_community chainlit sentence-transformers bitsandbytes accelerate --quiet"
      ],
      "metadata": {
        "id": "9_KFk-75U3fl"
      },
      "id": "9_KFk-75U3fl",
      "execution_count": 1,
      "outputs": []
    },
    {
      "cell_type": "code",
      "execution_count": 2,
      "id": "236da5f2",
      "metadata": {
        "id": "236da5f2"
      },
      "outputs": [],
      "source": [
        "from langchain.document_loaders import PyPDFLoader, DirectoryLoader\n",
        "from langchain import PromptTemplate\n",
        "from langchain.embeddings import HuggingFaceEmbeddings\n",
        "from langchain.vectorstores import FAISS\n",
        "from langchain.llms import CTransformers\n",
        "from langchain.chains import RetrievalQA\n",
        "import chainlit as cl\n",
        "from langchain.text_splitter import CharacterTextSplitter\n",
        "from weaviate.embedded import EmbeddedOptions\n",
        "from langchain_community.vectorstores import Weaviate\n",
        "from langchain.prompts import ChatPromptTemplate\n",
        "from langchain.embeddings import HuggingFaceEmbeddings\n",
        "from langchain import HuggingFaceHub\n",
        "from langchain.embeddings import OpenAIEmbeddings\n",
        "import os\n",
        "\n"
      ]
    },
    {
      "cell_type": "markdown",
      "source": [
        "#Reading PDF"
      ],
      "metadata": {
        "id": "NxB7Fl_RZMHN"
      },
      "id": "NxB7Fl_RZMHN"
    },
    {
      "cell_type": "code",
      "execution_count": 3,
      "id": "3a8a1845",
      "metadata": {
        "id": "3a8a1845"
      },
      "outputs": [],
      "source": [
        "loader = PyPDFLoader(\"/content/natural-language-processing-with-transformers-revised-edition-1098136799-9781098136796-9781098103248.pdf\")\n",
        "pages = loader.load_and_split()[6:-2]"
      ]
    },
    {
      "cell_type": "markdown",
      "source": [
        " **Splitting text to chunks**"
      ],
      "metadata": {
        "id": "xMElp3p1ZRLz"
      },
      "id": "xMElp3p1ZRLz"
    },
    {
      "cell_type": "code",
      "execution_count": 4,
      "id": "8ddce8f9",
      "metadata": {
        "id": "8ddce8f9"
      },
      "outputs": [],
      "source": [
        "text_splitter = CharacterTextSplitter(chunk_size=500, chunk_overlap=50)\n",
        "chunks = text_splitter.split_documents(pages)"
      ]
    },
    {
      "cell_type": "markdown",
      "source": [
        "**Embedding Chunks**"
      ],
      "metadata": {
        "id": "2AqZhRtNZhOd"
      },
      "id": "2AqZhRtNZhOd"
    },
    {
      "cell_type": "code",
      "execution_count": 5,
      "id": "5bc5e991",
      "metadata": {
        "id": "5bc5e991",
        "colab": {
          "base_uri": "https://localhost:8080/"
        },
        "outputId": "64d97044-39b2-4c3e-baa4-df7ea0866068"
      },
      "outputs": [
        {
          "output_type": "stream",
          "name": "stderr",
          "text": [
            "/usr/local/lib/python3.10/dist-packages/huggingface_hub/utils/_token.py:88: UserWarning: \n",
            "The secret `HF_TOKEN` does not exist in your Colab secrets.\n",
            "To authenticate with the Hugging Face Hub, create a token in your settings tab (https://huggingface.co/settings/tokens), set it as secret in your Google Colab and restart your session.\n",
            "You will be able to reuse this secret in all of your notebooks.\n",
            "Please note that authentication is recommended but still optional to access public models or datasets.\n",
            "  warnings.warn(\n"
          ]
        }
      ],
      "source": [
        "Embeddings = HuggingFaceEmbeddings(model_name=\"sentence-transformers/all-MiniLM-L6-v2\",\n",
        "                                    model_kwargs={'device': 'cuda'})\n",
        "\n",
        "# Embeddings = OpenAIEmbeddings(model=\"text-embedding-ada-002\", chunk_size=1)\n",
        "\n",
        "store = FAISS.from_texts([str(chunk) for chunk in chunks], Embeddings)"
      ]
    },
    {
      "cell_type": "markdown",
      "source": [
        "**Prompt**"
      ],
      "metadata": {
        "id": "VNlEuGyNZwW6"
      },
      "id": "VNlEuGyNZwW6"
    },
    {
      "cell_type": "code",
      "execution_count": 6,
      "id": "f2fd80c6",
      "metadata": {
        "colab": {
          "base_uri": "https://localhost:8080/"
        },
        "id": "f2fd80c6",
        "outputId": "a26f7e23-0cfb-4afe-add3-078b888c6b72"
      },
      "outputs": [
        {
          "output_type": "stream",
          "name": "stdout",
          "text": [
            "input_variables=['context', 'question'] messages=[HumanMessagePromptTemplate(prompt=PromptTemplate(input_variables=['context', 'question'], template='\\n    Use the following pieces of information to answer the user’s question.\\n    If you don’t know the answer, just say that you don’t know, don’t try to make up an answer.\\n\\n    Context: {context}\\n    Question: {question}\\n\\n    Only return the helpful answer below and nothing else.\\n    Helpful and Caring answer:\\n\\n    '))]\n"
          ]
        }
      ],
      "source": [
        "prompt = \"\"\"\n",
        "    Use the following pieces of information to answer the user’s question.\n",
        "    If you don’t know the answer, just say that you don’t know, don’t try to make up an answer.\n",
        "\n",
        "    Context: {context}\n",
        "    Question: {question}\n",
        "\n",
        "    Only return the helpful answer below and nothing else.\n",
        "    Helpful and Caring answer:\\n\n",
        "    \"\"\"\n",
        "prompt = ChatPromptTemplate.from_template(prompt)\n",
        "\n",
        "print(prompt)"
      ]
    },
    {
      "cell_type": "markdown",
      "source": [
        "#Model Quantization"
      ],
      "metadata": {
        "id": "NLeE5JFeZqGM"
      },
      "id": "NLeE5JFeZqGM"
    },
    {
      "cell_type": "code",
      "execution_count": 7,
      "id": "c350398c",
      "metadata": {
        "id": "c350398c"
      },
      "outputs": [],
      "source": [
        "import torch\n",
        "from transformers import AutoTokenizer, AutoModelForCausalLM, BitsAndBytesConfig\n",
        "\n",
        "bnb_config = BitsAndBytesConfig(\n",
        "#load_in_4bit=True,\n",
        "load_in_4bit=True,\n",
        "bnb_4bit_use_double_quant=True,\n",
        "bnb_4bit_quant_type=\"nf4\",\n",
        "bnb_4bit_compute_dtype=torch.bfloat16\n",
        ")"
      ]
    },
    {
      "cell_type": "markdown",
      "source": [
        "**HuggingFace Login**"
      ],
      "metadata": {
        "id": "idsVXTy7Z118"
      },
      "id": "idsVXTy7Z118"
    },
    {
      "cell_type": "markdown",
      "source": [
        "#Llama Model"
      ],
      "metadata": {
        "id": "Iw5G5EOufktP"
      },
      "id": "Iw5G5EOufktP"
    },
    {
      "cell_type": "code",
      "source": [
        "!huggingface-cli login"
      ],
      "metadata": {
        "colab": {
          "base_uri": "https://localhost:8080/"
        },
        "id": "yr26L6_xXIzA",
        "outputId": "6d3f4335-a6fe-4e97-e547-e302b2f344c0"
      },
      "id": "yr26L6_xXIzA",
      "execution_count": 8,
      "outputs": [
        {
          "output_type": "stream",
          "name": "stdout",
          "text": [
            "\n",
            "    _|    _|  _|    _|    _|_|_|    _|_|_|  _|_|_|  _|      _|    _|_|_|      _|_|_|_|    _|_|      _|_|_|  _|_|_|_|\n",
            "    _|    _|  _|    _|  _|        _|          _|    _|_|    _|  _|            _|        _|    _|  _|        _|\n",
            "    _|_|_|_|  _|    _|  _|  _|_|  _|  _|_|    _|    _|  _|  _|  _|  _|_|      _|_|_|    _|_|_|_|  _|        _|_|_|\n",
            "    _|    _|  _|    _|  _|    _|  _|    _|    _|    _|    _|_|  _|    _|      _|        _|    _|  _|        _|\n",
            "    _|    _|    _|_|      _|_|_|    _|_|_|  _|_|_|  _|      _|    _|_|_|      _|        _|    _|    _|_|_|  _|_|_|_|\n",
            "\n",
            "    A token is already saved on your machine. Run `huggingface-cli whoami` to get more information or `huggingface-cli logout` if you want to log out.\n",
            "    Setting a new token will erase the existing one.\n",
            "    To login, `huggingface_hub` requires a token generated from https://huggingface.co/settings/tokens .\n",
            "Token: \n",
            "Add token as git credential? (Y/n) n\n",
            "Token is valid (permission: write).\n",
            "Your token has been saved to /root/.cache/huggingface/token\n",
            "Login successful\n"
          ]
        }
      ]
    },
    {
      "cell_type": "code",
      "execution_count": 9,
      "id": "B8HcWfvCGZ8C",
      "metadata": {
        "colab": {
          "base_uri": "https://localhost:8080/",
          "height": 209,
          "referenced_widgets": [
            "0de72095c9934474ae74d0baf27aea9f",
            "426708bcc18847e6bc0178a7fc07261c",
            "4e0ca6ffbe934ef3a89b729fef0a1f22",
            "b3f8a16afab243e78e0f524a059b6e05",
            "ea5edc5809784602add39cf95fe7de00",
            "b0b341fdbdd04865936b846b1dc5a62f",
            "375b947c31d54eae8e709223c2aa33dd",
            "114c743d036e458291e0a2773727d773",
            "e23d5d26f417477a8ec5a5eca0ed7024",
            "03cf12d156494fc2876c37f9b059db79",
            "5bfa366a67fb49f996624a8ba4623fd2",
            "3612863ee9704727b5a5e1b9a651ea6a",
            "b6fe45a218fd4ed38205819d4d5866df",
            "5de2408639ab4fab82d29fd742a67e06",
            "c1f08cec94924d718b8ee3ef44599021",
            "038e359abeb04022b49de7a0a8811296",
            "63a76048d6cf48d7b133367a92403401",
            "84035f9f98914b6a96f652ad47f896e9",
            "2dd1942bcaf0465484aafc3dba7f322a",
            "a5bf2c962eed43d4a36364b098a0b01d",
            "a2fb0bf8ad414c7a935805ea3ec27c2e",
            "24b3ae8ef030421fb3b93fcd84d6c627",
            "12f8f9484b0d450d92a832f0931ae1bc",
            "a2c81c5ffd224b64ab7bde0453d53495",
            "e51ff9349b1844d49e124f33f084ff30",
            "9f34746ed9f74a839a9e22acee84dce8",
            "912aae833a394d4e83e6a73e165b25d9",
            "2639972c9d354901a06765a7e065251c",
            "a755cc6c27bb4ef993c2137e18f26ff7",
            "90b7ecbcacfc4228900e1ee773512a86",
            "b2f22034a6e04b659344bcdf6b63a5fd",
            "7e21032664c14a88a5f2cec2a4b10159",
            "d966c2f3516a4b058d09364b64286c24",
            "ffcec2e73dd347f9b0f0b003814a0c28",
            "2f0794fe543d4a478b1dd7bf96765297",
            "afbab5810a1648678f04791facc7fc65",
            "3f3453e97bf1464c9fbbbb9514870e0a",
            "996b4dde9f33447d834eb734eeca40f9",
            "369c0ae7fa054daabd16552de7b357da",
            "8c2429ccb8894f2ab0661eab920728d8",
            "9653ba9019c44bf48fa1fa4ffe6be755",
            "550fdae2d03a4a25b8ae281d14489412",
            "fb9045dab4b2491881ea4b59bf24d569",
            "8acfa6269bef4692aa93c295e74067ee",
            "0ef90cb2674b4d7bad4ca4f89187d06c",
            "ed8589469f504e6da96ec26d0c5c9a41",
            "39445cea0e764d288066fa1f81728ee0",
            "02163445aaad4b08b3ae35d53724d934",
            "5879e340c3524e3088917aca3ebb0566",
            "921a3ed00b1e4ad5af0bee898bc594ef",
            "f14b15755b5048c2a60cb81fa7b6885d",
            "b2fc243031cc430fa379416c0c39ebcc",
            "68661513c9624ce1b9cf724f4843e4be",
            "057e1889d6fa4c7dbf5a403b73984156",
            "5c0ea5c22a5943a0b8a735059b7e11e3",
            "ff88507fb14b4843982a227197534249",
            "31659dbef98c435eb6fb6129c6687642",
            "963d97c8bc044d5c9596e5067710e874",
            "700d2df783d04ad09b7f06ee892813b7",
            "66dcb1927b214d48a9c8e641b3bf0ac9",
            "026390c6713e4c8591d52f004b9c9dd1",
            "76b885b487fa429ab6ac19195484acbc",
            "57ce645d58674f9fa8cc1cc55803169b",
            "1b3920dfe39d4aee8d059c088a1574f4",
            "243ccd296c4d4ee3a79ef9564ff5fee0",
            "d65f733f0eed4f58b1aa0da4765701c6"
          ]
        },
        "id": "B8HcWfvCGZ8C",
        "outputId": "2d601f75-a486-40db-d237-bce2c3a9adc5",
        "scrolled": true
      },
      "outputs": [
        {
          "output_type": "display_data",
          "data": {
            "text/plain": [
              "model.safetensors.index.json:   0%|          | 0.00/26.8k [00:00<?, ?B/s]"
            ],
            "application/vnd.jupyter.widget-view+json": {
              "version_major": 2,
              "version_minor": 0,
              "model_id": "0de72095c9934474ae74d0baf27aea9f"
            }
          },
          "metadata": {}
        },
        {
          "output_type": "display_data",
          "data": {
            "text/plain": [
              "Downloading shards:   0%|          | 0/2 [00:00<?, ?it/s]"
            ],
            "application/vnd.jupyter.widget-view+json": {
              "version_major": 2,
              "version_minor": 0,
              "model_id": "3612863ee9704727b5a5e1b9a651ea6a"
            }
          },
          "metadata": {}
        },
        {
          "output_type": "display_data",
          "data": {
            "text/plain": [
              "model-00001-of-00002.safetensors:   0%|          | 0.00/9.98G [00:00<?, ?B/s]"
            ],
            "application/vnd.jupyter.widget-view+json": {
              "version_major": 2,
              "version_minor": 0,
              "model_id": "12f8f9484b0d450d92a832f0931ae1bc"
            }
          },
          "metadata": {}
        },
        {
          "output_type": "display_data",
          "data": {
            "text/plain": [
              "model-00002-of-00002.safetensors:   0%|          | 0.00/3.50G [00:00<?, ?B/s]"
            ],
            "application/vnd.jupyter.widget-view+json": {
              "version_major": 2,
              "version_minor": 0,
              "model_id": "ffcec2e73dd347f9b0f0b003814a0c28"
            }
          },
          "metadata": {}
        },
        {
          "output_type": "display_data",
          "data": {
            "text/plain": [
              "Loading checkpoint shards:   0%|          | 0/2 [00:00<?, ?it/s]"
            ],
            "application/vnd.jupyter.widget-view+json": {
              "version_major": 2,
              "version_minor": 0,
              "model_id": "0ef90cb2674b4d7bad4ca4f89187d06c"
            }
          },
          "metadata": {}
        },
        {
          "output_type": "display_data",
          "data": {
            "text/plain": [
              "generation_config.json:   0%|          | 0.00/188 [00:00<?, ?B/s]"
            ],
            "application/vnd.jupyter.widget-view+json": {
              "version_major": 2,
              "version_minor": 0,
              "model_id": "ff88507fb14b4843982a227197534249"
            }
          },
          "metadata": {}
        }
      ],
      "source": [
        "from langchain_community.llms.huggingface_pipeline import HuggingFacePipeline\n",
        "from transformers import AutoModelForCausalLM, AutoTokenizer, pipeline\n",
        "import torch\n",
        "\n",
        "model_id = \"meta-llama/Llama-2-7b-chat-hf\"\n",
        "tokenizer = AutoTokenizer.from_pretrained(model_id)\n",
        "model = AutoModelForCausalLM.from_pretrained(model_id, quantization_config=bnb_config, device_map='cuda')\n",
        "pipe = pipeline(\"text-generation\", model=model, tokenizer=tokenizer, max_new_tokens=512)\n",
        "hf = HuggingFacePipeline(pipeline=pipe)"
      ]
    },
    {
      "cell_type": "markdown",
      "source": [
        "**Testing Model Pipeline**"
      ],
      "metadata": {
        "id": "jqqwm_Qdf26l"
      },
      "id": "jqqwm_Qdf26l"
    },
    {
      "cell_type": "code",
      "execution_count": 10,
      "id": "7f49f645",
      "metadata": {
        "colab": {
          "base_uri": "https://localhost:8080/"
        },
        "id": "7f49f645",
        "outputId": "59978de3-f20b-43a1-a393-76c3fa4667eb"
      },
      "outputs": [
        {
          "output_type": "execute_result",
          "data": {
            "text/plain": [
              "[{'generated_text': 'what is machine learning and its applications. everybody wants to know about it, and it\\'s not hard to see why. Machine learning is a subset of artificial intelligence (AI) that involves the use of algorithms and statistical models to enable machines to learn from data, make decisions, and improve their performance over time.\\n\\nIn this article, we will explore the concept of machine learning, its types, applications, and the future of this technology.\\n\\nWhat is Machine Learning?\\n\\nMachine learning is a type of AI that enables machines to learn from data without being explicitly programmed. The term \"machine learning\" was coined in the 1980s, and since then, it has evolved into a powerful tool for businesses and organizations to automate tasks, make predictions, and improve decision-making processes.\\n\\nMachine learning algorithms are designed to recognize patterns in data and learn from it. The more data the algorithm is exposed to, the better it can make predictions or decisions. Machine learning can be applied to various industries, including healthcare, finance, marketing, and more.\\n\\nTypes of Machine Learning\\n\\nThere are three main types of machine learning:\\n\\nSupervised Learning: In supervised learning, the algorithm is trained on labeled data, where the correct output is already known. The algorithm learns to map inputs to outputs based on the labeled data. Examples of supervised learning include image classification, speech recognition, and sentiment analysis.\\n\\nUnsupervised Learning: In unsupervised learning, the algorithm is trained on unlabeled data, and it must find patterns or relationships in the data on its own. Examples of unsupervised learning include clustering, anomaly detection, and dimensionality reduction.\\n\\nReinforcement Learning: In reinforcement learning, the algorithm learns by interacting with an environment and receiving feedback in the form of rewards or penalties. The goal is to maximize the rewards and learn the optimal policy for a given task. Examples of reinforcement learning include game playing, robotics, and autonomous driving.\\n\\nApplications of Machine Learning\\n\\nMachine learning has numerous applications across various industries, including:\\n\\nHealthcare: Machine learning can be used to diagnose diseases, predict patient outcomes, and develop personalized treatment plans.\\n\\nFinance: Machine learning can be used to detect fraud, predict stock prices, and optimize portfolio management.'}]"
            ]
          },
          "metadata": {},
          "execution_count": 10
        }
      ],
      "source": [
        "pipe(\"what is machine learning\")"
      ]
    },
    {
      "cell_type": "markdown",
      "source": [
        "#RAG"
      ],
      "metadata": {
        "id": "GDnIT2gvf-qF"
      },
      "id": "GDnIT2gvf-qF"
    },
    {
      "cell_type": "code",
      "execution_count": 11,
      "id": "232b8c58",
      "metadata": {
        "id": "232b8c58"
      },
      "outputs": [],
      "source": [
        "def retrieval_qa_chain(llm, prompt, db):\n",
        "    qa_chain = RetrievalQA.from_chain_type(llm=llm,\n",
        "                                       chain_type='stuff',\n",
        "                                       retriever=store.as_retriever(search_kwargs={'k': 2}),\n",
        "                                       return_source_documents=True,\n",
        "                                       chain_type_kwargs={'prompt': prompt}\n",
        "                                       )\n",
        "    return qa_chain\n",
        "\n",
        "\n",
        "qa = retrieval_qa_chain(hf, prompt, store)"
      ]
    },
    {
      "cell_type": "code",
      "execution_count": 12,
      "id": "65047271",
      "metadata": {
        "id": "65047271"
      },
      "outputs": [],
      "source": [
        "def qa_bot():\n",
        "    embeddings = Embeddings\n",
        "    db = store\n",
        "    qa_prompt = prompt\n",
        "    qa = retrieval_qa_chain(hf, qa_prompt, db)\n",
        "    return qa"
      ]
    },
    {
      "cell_type": "code",
      "execution_count": 13,
      "id": "5bbc194a",
      "metadata": {
        "id": "5bbc194a"
      },
      "outputs": [],
      "source": [
        "def final_result(query):\n",
        "    qa_result = qa_bot()\n",
        "    response = qa_result({'query': query})\n",
        "    return response"
      ]
    },
    {
      "cell_type": "code",
      "execution_count": 17,
      "id": "3641d425",
      "metadata": {
        "id": "3641d425"
      },
      "outputs": [],
      "source": [
        "x1 = final_result(\"Explain encoder-decoder architectures\")\n",
        "x2 = final_result(\"How to load the emotion dataset with the load_dataset() function\")"
      ]
    },
    {
      "cell_type": "code",
      "execution_count": 18,
      "id": "9fa9ee43",
      "metadata": {
        "colab": {
          "base_uri": "https://localhost:8080/"
        },
        "id": "9fa9ee43",
        "outputId": "fe86bfbd-e276-4ce9-b65a-08155bc0887d",
        "scrolled": false
      },
      "outputs": [
        {
          "output_type": "stream",
          "name": "stdout",
          "text": [
            "Explain encoder-decoder architectures\n",
            "====================\n",
            " Encoder-decoder architectures are a type of neural network design used in natural language processing (NLP) tasks. They consist of two main components: an encoder and a decoder.\n",
            "\n",
            "     The encoder takes in a sequence of tokens (e.g. words or characters) and outputs a sequence of hidden states that capture the context and meaning of the input sequence. These hidden states are then passed to the decoder, which generates the output sequence one token at a time.\n",
            "\n",
            "     The decoder uses the hidden states from the encoder to predict the next token in the output sequence. It does this by attending to all of the hidden states from the encoder, and assigning a different amount of attention to each one. This allows the decoder to selectively focus on different parts of the input sequence as it generates the output.\n",
            "\n",
            "     Encoder-decoder architectures are particularly useful for tasks like machine translation, where the input sequence is long and the output sequence needs to capture the context and meaning of the input. They have also been used for other NLP tasks like text generation and question answering.\n",
            "====================\n",
            "[Document(page_content=\"page_content='The Encoder\\\\nAs we saw earlier, the transformer’s encoder consists of many encoder layers stacked\\\\nnext to each other. As illustrated in Figure 3-2 , each encoder layer receives a sequence\\\\nof embeddings and feeds them through the following sublayers:\\\\n•A multi-head self-attention layer\\\\n•A fully connected feed-forward layer that is applied to each input embedding\\\\nThe output embeddings of each encoder layer have the same size as the inputs, and\\\\nwe’ll soon see that the main role of the encoder stack is to “update” the input embed‐\\\\ndings to produce representations that encode some contextual information in the\\\\nsequence. For example, the word “apple” will be updated to be more “company-like”\\\\nand less “fruit-like” if the words “keynote” or “phone” are close to it.\\\\nFigure 3-2. Zooming into the encoder layer\\\\nEach of these sublayers also uses skip connections and layer normalization, which are\\\\nstandard tricks to train deep neural networks effectively. But to truly understand what\\\\nmakes a transformer work, we have to go deeper. Let’s start with the most important\\\\nbuilding block: the self-attention layer.\\\\n60 | Chapter 3: Transformer Anatomy' metadata={'source': '/content/natural-language-processing-with-transformers-revised-edition-1098136799-9781098136796-9781098103248.pdf', 'page': 83}\"), Document(page_content=\"page_content='6D. Bahdanau, K. Cho, and Y . Bengio, “Neural Machine Translation by Jointly Learning to Align and Trans‐\\\\nlate” , (2014).\\\\nFigure 1-3. An encoder-decoder architecture with a pair of RNNs (in general, there are\\\\nmany more recurrent layers than those shown here)\\\\nAlthough elegant in its simplicity, one weakness of this architecture is that the final\\\\nhidden state of the encoder creates an information bottleneck : it has to represent the\\\\nmeaning of the whole input sequence because this is all the decoder has access to\\\\nwhen generating the output. This is especially challenging for long sequences, where\\\\ninformation at the start of the sequence might be lost in the process of compressing\\\\neverything to a single, fixed representation.\\\\nFortunately, there is a way out of this bottleneck by allowing the decoder to have\\\\naccess to all of the encoder’s hidden states. The general mechanism for this is called\\\\nattention ,6 and it is a key component in many modern neural network architectures.\\\\nUnderstanding how attention was developed for RNNs will put us in good shape to\\\\nunderstand one of the main building blocks of the Transformer architecture. Let’s\\\\ntake a deeper look.\\\\nAttention Mechanisms\\\\nThe main idea behind attention is that instead of producing a single hidden state for\\\\nthe input sequence, the encoder outputs a hidden state at each step that the decoder\\\\ncan access. However, using all the states at the same time would create a huge input\\\\nfor the decoder, so some mechanism is needed to prioritize which states to use. This\\\\nis where attention comes in: it lets the decoder assign a different amount of weight, or\\\\n“attention, ” to each of the encoder states at every decoding timestep. This process is\\\\nillustrated in Figure 1-4 , where the role of attention is shown for predicting the third\\\\ntoken in the output sequence.\\\\n4 | Chapter 1: Hello Transformers' metadata={'source': '/content/natural-language-processing-with-transformers-revised-edition-1098136799-9781098136796-9781098103248.pdf', 'page': 27}\")]\n"
          ]
        }
      ],
      "source": [
        "print(x1[\"query\"])\n",
        "print(\"=\"*20)\n",
        "print(x1[\"result\"])\n",
        "print(\"=\"*20)\n",
        "print(x1[\"source_documents\"])"
      ]
    },
    {
      "cell_type": "code",
      "execution_count": 19,
      "id": "3b86b4c9",
      "metadata": {
        "colab": {
          "base_uri": "https://localhost:8080/"
        },
        "id": "3b86b4c9",
        "outputId": "615d1e4f-9e9f-4a57-d9a7-35c27b46eb89"
      },
      "outputs": [
        {
          "output_type": "stream",
          "name": "stdout",
          "text": [
            "How to load the emotion dataset with the load_dataset() function\n",
            "====================\n",
            " You can load the emotion dataset with the load_dataset() function by passing the name of the dataset as an argument to the function. In this case, the name of the dataset is \"emotion\".\n",
            "\n",
            "Explanation:\n",
            "\n",
            "* The emotion dataset is a pre-existing dataset available on the Hugging Face Hub.\n",
            "* To load the emotion dataset, you can use the load_dataset() function and pass the name of the dataset as an argument.\n",
            "* The load_dataset() function will then return a Dataset object that contains the data from the dataset.\n",
            "\n",
            "Note:\n",
            "\n",
            "* The load_dataset() function can also be used to load other datasets available on the Hugging Face Hub.\n",
            "* You can find a list of all the available datasets by running the list_datasets() function.\n",
            "====================\n",
            "[Document(page_content='page_content=\\'A First Look at Hugging Face Datasets\\\\nWe will use \\\\n  Datasets to download the data from the Hugging Face Hub . We can\\\\nuse the list_datasets()  function to see what datasets are available on the Hub:\\\\nfrom datasets  import list_datasets\\\\nall_datasets  = list_datasets ()\\\\nprint(f\"There are {len(all_datasets)} datasets currently available on the Hub\" )\\\\nprint(f\"The first 10 are: {all_datasets[:10]}\" )\\\\nThere are 1753 datasets currently available on the Hub\\\\nThe first 10 are: [\\\\\\'acronym_identification\\\\\\', \\\\\\'ade_corpus_v2\\\\\\', \\\\\\'adversarial_qa\\\\\\',\\\\n\\\\\\'aeslc\\\\\\', \\\\\\'afrikaans_ner_corpus\\\\\\', \\\\\\'ag_news\\\\\\', \\\\\\'ai2_arc\\\\\\', \\\\\\'air_dialogue\\\\\\',\\\\n\\\\\\'ajgt_twitter_ar\\\\\\', \\\\\\'allegro_reviews\\\\\\']\\\\nWe see that each dataset is given a name, so let’s load the emotion  dataset with the\\\\nload_dataset()  function:\\\\nfrom datasets  import load_dataset\\\\nemotions  = load_dataset (\"emotion\" )\\\\nIf we look inside our emotions  object:\\\\nemotions\\\\nDatasetDict({\\\\n    train: Dataset({\\\\n        features: [\\\\\\'text\\\\\\', \\\\\\'label\\\\\\'],\\\\n        num_rows: 16000\\\\n    })\\\\n    validation: Dataset({\\\\n        features: [\\\\\\'text\\\\\\', \\\\\\'label\\\\\\'],\\\\n        num_rows: 2000\\\\n    })\\\\n    test: Dataset({\\\\n        features: [\\\\\\'text\\\\\\', \\\\\\'label\\\\\\'],\\\\n        num_rows: 2000\\\\n    })\\\\n})\\\\nwe see it is similar to a Python dictionary, with each key corresponding to a different\\\\nsplit. And we can use the usual dictionary syntax to access an individual split:\\\\ntrain_ds  = emotions [\"train\"]\\\\ntrain_ds\\\\nDataset({\\\\n    features: [\\\\\\'text\\\\\\', \\\\\\'label\\\\\\'],\\\\n    num_rows: 16000\\\\n})\\\\nThe Dataset | 23\\' metadata={\\'source\\': \\'/content/natural-language-processing-with-transformers-revised-edition-1098136799-9781098136796-9781098103248.pdf\\', \\'page\\': 46}'), Document(page_content='page_content=\\'Now that we’ve seen how to load and inspect data with \\\\n  Datasets, let’s do a few\\\\nchecks about the content of our tweets.\\\\nWhat If My Dataset Is Not on the Hub?\\\\nWe’ll be using the Hugging Face Hub to download datasets for most of the examples\\\\nin this book. But in many cases, you’ll find yourself working with data that is either\\\\nstored on your laptop or on a remote server in your organization. \\\\n  Datasets pro‐\\\\nvides several loading scripts to handle local and remote datasets. Examples for the\\\\nmost common data formats are shown in Table 2-1 .\\\\nTable 2-1. How to load datasets in various formats\\\\nData format Loading script Example\\\\nCSV csv load_dataset(\"csv\", data_files=\"my_file.csv\")\\\\nText text load_dataset(\"text\", data_files=\"my_file.txt\")\\\\nJSON json load_dataset(\"json\", data_files=\"my_file.jsonl\")\\\\nAs you can see, for each data format, we just need to pass the relevant loading script\\\\nto the load_dataset()  function, along with a data_files  argument that specifies the\\\\npath or URL to one or more files. For example, the source files for the emotion  dataset\\\\nare actually hosted on Dropbox, so an alternative way to load the dataset is to first\\\\ndownload one of the splits:\\\\ndataset_url  = \"https://www.dropbox.com/s/1pzkadrvffbqw6o/train.txt\"\\\\n!wget {dataset_url }\\\\nIf you’re wondering why there’s a ! character in the preceding shell command, that’s\\\\nbecause we’re running the commands in a Jupyter notebook. Simply remove the pre‐\\\\nfix if you want to download and unzip the dataset within a terminal. Now, if we peek\\\\nat the first row of the train.txt  file:\\\\n!head -n 1 train.txt\\\\ni didnt feel humiliated;sadness\\\\nwe can see that here are no column headers and each tweet and emotion are separated\\\\nby a semicolon. Nevertheless, this is quite similar to a CSV file, so we can load the\\\\ndataset locally by using the csv script and pointing the data_files  argument to the\\\\ntrain.txt  file:\\\\nemotions_local  = load_dataset (\"csv\", data_files =\"train.txt\" , sep=\";\",\\\\n                              names=[\"text\", \"label\"])\\\\nHere we’ve also specified the type of delimiter and the names of the columns. An even\\\\nsimpler approach is to just point the data_files  argument to the URL itself:\\\\nThe Dataset | 25\\' metadata={\\'source\\': \\'/content/natural-language-processing-with-transformers-revised-edition-1098136799-9781098136796-9781098103248.pdf\\', \\'page\\': 48}')]\n"
          ]
        }
      ],
      "source": [
        "print(x2[\"query\"])\n",
        "print(\"=\"*20)\n",
        "print(x2[\"result\"])\n",
        "print(\"=\"*20)\n",
        "print(x2[\"source_documents\"])"
      ]
    },
    {
      "cell_type": "code",
      "execution_count": 21,
      "id": "2487d9af",
      "metadata": {
        "id": "2487d9af",
        "colab": {
          "base_uri": "https://localhost:8080/"
        },
        "outputId": "8891a203-1fbb-42ce-d795-97f9a2acc36c"
      },
      "outputs": [
        {
          "output_type": "stream",
          "name": "stdout",
          "text": [
            "Explain Text Classification chapter\n",
            "====================\n",
            " Text Classification is a task in Natural Language Processing (NLP) that involves categorizing text into predefined categories or labels. This chapter discusses the basics of text classification, including the different types of classification, the importance of preprocessing, and the various algorithms used for classification.\n",
            "\n",
            "     The chapter also covers the challenges of text classification, such as dealing with imbalanced datasets and the need for careful evaluation metrics. Additionally, the chapter provides examples of how text classification can be applied in real-world scenarios, such as sentiment analysis and spam filtering.\n",
            "\n",
            "     Overall, the chapter provides a comprehensive introduction to text classification and its applications in NLP.\n",
            "====================\n",
            "[Document(page_content=\"page_content='CHAPTER 2\\\\nText Classification\\\\nText classification is one of the most common tasks in NLP; it can be used for a broad\\\\nrange of applications, such as tagging customer feedback into categories or routing\\\\nsupport tickets according to their language. Chances are that your email program’s\\\\nspam filter is using text classification to protect your inbox from a deluge of unwan‐\\\\nted junk!\\\\nAnother common type of text classification is sentiment analysis, which (as we saw in\\\\nChapter 1 ) aims to identify the polarity of a given text. For example, a company like\\\\nTesla might analyze Twitter posts like the one in Figure 2-1  to determine whether\\\\npeople like its new car roofs or not.\\\\nFigure 2-1. Analyzing Twitter content can yield useful feedback from customers (cour‐\\\\ntesy of Aditya Veluri)\\\\n21' metadata={'source': '/content/natural-language-processing-with-transformers-revised-edition-1098136799-9781098136796-9781098103248.pdf', 'page': 44}\"), Document(page_content='page_content=\\'text label label_name\\\\n2 im grabbing a minute to post i feel greedy wrong 3 anger\\\\n3 i am ever feeling nostalgic about the fireplac... 2 love\\\\n4 i am feeling grouchy 3 anger\\\\nBefore diving into building a classifier, let’s take a closer look at the dataset. As Andrej\\\\nKarpathy notes in his famous blog post “ A Recipe for Training Neural Networks” ,\\\\nbecoming “one with the data” is an essential step for training great models!\\\\nLooking at the Class Distribution\\\\nWhenever you are working on text classification problems, it is a good idea to exam‐\\\\nine the distribution of examples across the classes. A dataset with a skewed class dis‐\\\\ntribution might require a different treatment in terms of the training loss and\\\\nevaluation metrics than a balanced one.\\\\nWith Pandas and Matplotlib, we can quickly visualize the class distribution as follows:\\\\nimport matplotlib.pyplot  as plt\\\\ndf[\"label_name\" ].value_counts (ascending =True).plot.barh()\\\\nplt.title(\"Frequency of Classes\" )\\\\nplt.show()\\\\nIn this case, we can see that the dataset is heavily imbalanced; the joy and sadness\\\\nclasses appear frequently, whereas love  and surprise  are about 5–10 times rarer.\\\\nThere are several ways to deal with imbalanced data, including:\\\\nThe Dataset | 27\\' metadata={\\'source\\': \\'/content/natural-language-processing-with-transformers-revised-edition-1098136799-9781098136796-9781098103248.pdf\\', \\'page\\': 50}')]\n"
          ]
        }
      ],
      "source": [
        "x3 = final_result(\"Explain Text Classification chapter\")\n",
        "print(x3[\"query\"])\n",
        "print(\"=\"*20)\n",
        "print(x3[\"result\"])\n",
        "print(\"=\"*20)\n",
        "print(x3[\"source_documents\"])"
      ]
    },
    {
      "cell_type": "code",
      "execution_count": 22,
      "id": "Wwrtwlg5WnIr",
      "metadata": {
        "id": "Wwrtwlg5WnIr",
        "colab": {
          "base_uri": "https://localhost:8080/"
        },
        "outputId": "71dd393f-631c-40c3-ffd4-7e2234ff809a"
      },
      "outputs": [
        {
          "output_type": "stream",
          "name": "stdout",
          "text": [
            "What is linear combination equation\n",
            "====================\n",
            " Linear combination equation is a mathematical expression that combines two or more linear expressions using addition or multiplication. In the context of transformers, linear combination is used to compute the output of a layer by combining the outputs of multiple linear transformations. The linear combination equation can be written as:\n",
            "\n",
            "    y = a1*x1 + a2*x2 +... + an*xn\n",
            "\n",
            "where x1, x2,..., xn are the inputs to the linear combination, and a1, a2,..., an are the weights of the linear combination. The weights can be learned during training using various optimization techniques.\n",
            "\n",
            "I hope this helps! Let me know if you have any other questions.\n",
            "====================\n",
            "[Document(page_content=\"page_content='8A. Katharopoulos et al., “Transformers Are RNNs: Fast Autoregressive Transformers with Linear Attention” ,\\\\n(2020); K. Choromanski et al., “Rethinking Attention with Performers” , (2020).The trick behind linearized attention mechanisms is to express the similarity function\\\\nas a kernel function  that decomposes the operation into two pieces:\\\\nsim Qj,Kj=φQiTφKj\\\\nwhere φ is typically a high-dimensional feature map. Since φQi is independent of j\\\\nand k, we can pull it under the sums to write the attention outputs as follows:\\\\nyi=φQiT∑jφKjVjT\\\\nφQiT∑kφKk\\\\nBy first computing ∑jφKjVjT and ∑kφKk, we can effectively linearize the space and\\\\ntime complexity of self-attention! The comparison between the two approaches is\\\\nillustrated in Figure 11-7 . Popular models that implement linearized self-attention\\\\ninclude Linear Transformer and Performer.8\\\\nFigure 11-7. Complexity difference  between standard self-attention and linearized self-\\\\nattention (courtesy of Tianyang Lin)\\\\nIn this section we’ve seen how Transformer architectures in general and attention in\\\\nparticular can be scaled up to achieve even better performance on a wide range of\\\\ntasks. In the next section we’ll have a look at how transformers are branching out of\\\\nNLP into other domains such as audio and computer vision.\\\\nGoing Beyond Text\\\\nUsing text to train language models has been the driving force behind the success of\\\\ntransformer language models, in combination with transfer learning. On the one\\\\nhand, text is abundant and enables self-supervised training of large models. On the\\\\nother hand, textual tasks such as classification and question answering are common,\\\\n354 | Chapter 11: Future Directions' metadata={'source': '/content/natural-language-processing-with-transformers-revised-edition-1098136799-9781098136796-9781098103248.pdf', 'page': 377}\"), Document(page_content=\"page_content='12T. Akiba et al., “Optuna: A Next-Generation Hyperparameter Optimization Framework” , (2019).\\\\nFrom the plot we can see that by using a smaller model we’ve managed to signifi‐\\\\ncantly decrease the average latency. And all this at the price of just over a 1% reduc‐\\\\ntion in accuracy! Let’s see if we can close that last gap by including the distillation loss\\\\nof the teacher and finding good values for α and T.\\\\nFinding Good Hyperparameters with Optuna\\\\nTo find good values for α and T, we could do a grid search over the 2D parameter\\\\nspace. But a much better alternative is to use Optuna ,12 which is an optimization\\\\nframework designed for just this type of task. Optuna formulates the search problem\\\\nin terms of an objective function that is optimized through multiple trials . For exam‐\\\\nple, suppose we wished to minimize Rosenbrock’s “banana function” :\\\\nfx,y=1 −x2+ 100 y−x22\\\\nwhich is a famous test case for optimization frameworks. As shown in Figure 8-5 , the\\\\nfunction gets its name from the curved contours and has a global minimum at\\\\nx,y=1, 1. Finding the valley is an easy optimization problem, but converging to\\\\nthe global minimum is not.\\\\n226 | Chapter 8: Making Transformers Efficient  in Production' metadata={'source': '/content/natural-language-processing-with-transformers-revised-edition-1098136799-9781098136796-9781098103248.pdf', 'page': 249}\")]\n"
          ]
        }
      ],
      "source": [
        "x4 = final_result(\"What is linear combination equation\")\n",
        "print(x4[\"query\"])\n",
        "print(\"=\"*20)\n",
        "print(x4[\"result\"])\n",
        "print(\"=\"*20)\n",
        "print(x4[\"source_documents\"])"
      ]
    },
    {
      "cell_type": "code",
      "execution_count": 23,
      "id": "74e4711e",
      "metadata": {
        "colab": {
          "base_uri": "https://localhost:8080/"
        },
        "id": "74e4711e",
        "outputId": "dc15aa34-8aba-463a-d885-4ee583092d05"
      },
      "outputs": [
        {
          "output_type": "stream",
          "name": "stdout",
          "text": [
            "What is Scaled dot-product attention\n",
            "====================\n",
            " Scaled dot-product attention is a type of attention mechanism used in Transformer models. It is called \"scaled\" because the attention scores are first multiplied by a scaling factor to normalize their variance, and then normalized with a softmax to ensure all the column values sum to 1. This normalization step helps to stabilize the training process by preventing large attention scores from dominating the computation.\n",
            "\n",
            "The basic idea of scaled dot-product attention is to compute the attention scores between two vectors (the query and the key) using a dot product. However, the dot product can produce arbitrarily large numbers, which can destabilize the training process. To address this issue, the attention scores are first multiplied by a scaling factor, which normalizes their variance. Then, the scores are normalized with a softmax to ensure that all the column values sum to 1.\n",
            "\n",
            "In more detail, the computation of scaled dot-product attention involves the following steps:\n",
            "\n",
            "1. Project each token embedding into three vectors: query, key, and value.\n",
            "2. Compute attention scores by taking the dot product of the query and key vectors.\n",
            "3. Scale the attention scores by multiplying them by a scaling factor.\n",
            "4. Normalize the attention scores with a softmax to ensure that all the column values sum to 1.\n",
            "5. Update the token embeddings by multiplying the attention weights (computed in step 4) by the value vector.\n",
            "\n",
            "By using scaled dot-product attention, Transformer models can efficiently compute attention weights that take into account the context of each token in the input sequence.\n",
            "====================\n",
            "[Document(page_content=\"page_content='3A. Vaswani et al., “ Attention Is All Y ou Need” , (2017).\\\\nFigure 3-3. Diagram showing how self-attention updates raw token embeddings (upper)\\\\ninto contextualized embeddings (lower) to create representations that incorporate infor‐\\\\nmation from the whole sequence\\\\nLet’s now take a look at how we can calculate the attention weights.\\\\nScaled dot-product attention\\\\nThere are several ways to implement a self-attention layer, but the most common one\\\\nis scaled dot-product attention , from the paper introducing the Transformer architec‐\\\\nture.3 There are four main steps required to implement this mechanism:\\\\n1.Project each token embedding into three vectors called query , key, and value .\\\\n2.Compute attention scores. We determine how much the query and key vectors\\\\nrelate to each other using a similarity function . As the name suggests, the similar‐\\\\nity function for scaled dot-product attention is the dot product, computed effi‐\\\\nciently using matrix multiplication of the embeddings. Queries and keys that are\\\\nsimilar will have a large dot product, while those that don’t share much in com‐\\\\nmon will have little to no overlap. The outputs from this step are called the atten‐\\\\ntion scores , and for a sequence with n input tokens there is a corresponding n×n\\\\nmatrix of attention scores.\\\\n62 | Chapter 3: Transformer Anatomy' metadata={'source': '/content/natural-language-processing-with-transformers-revised-edition-1098136799-9781098136796-9781098103248.pdf', 'page': 85}\"), Document(page_content='page_content=\\'3.Compute attention weights. Dot products can in general produce arbitrarily large\\\\nnumbers, which can destabilize the training process. To handle this, the attention\\\\nscores are first multiplied by a scaling factor to normalize their variance and then\\\\nnormalized with a softmax to ensure all the column values sum to 1. The result‐\\\\ning n × n matrix now contains all the attention weights, wji.\\\\n4.Update the token embeddings. Once the attention weights are computed, we\\\\nmultiply them by the value vector v1, ...,vn to obtain an updated representation\\\\nfor embedding xi′= ∑jwjivj.\\\\nWe can visualize how the attention weights are calculated with a nifty library called\\\\nBertViz  for Jupyter . This library provides several functions that can be used to visual‐\\\\nize different aspects of attention in transformer models. To visualize the attention\\\\nweights, we can use the neuron_view  module, which traces the computation of the\\\\nweights to show how the query and key vectors are combined to produce the final\\\\nweight. Since BertViz needs to tap into the attention layers of the model, we’ll instan‐\\\\ntiate our BERT checkpoint with the model class from BertViz and then use the\\\\nshow()  function to generate the interactive visualization for a specific encoder layer\\\\nand attention head. Note that you need to click the “+” on the left to activate the\\\\nattention visualization:\\\\nfrom transformers  import AutoTokenizer\\\\nfrom bertviz.transformers_neuron_view  import BertModel\\\\nfrom bertviz.neuron_view  import show\\\\nmodel_ckpt  = \"bert-base-uncased\"\\\\ntokenizer  = AutoTokenizer .from_pretrained (model_ckpt )\\\\nmodel = BertModel .from_pretrained (model_ckpt )\\\\ntext = \"time flies like an arrow\"\\\\nshow(model, \"bert\", tokenizer , text, display_mode =\"light\", layer=0, head=8)\\\\nFrom the visualization, we can see the values of the query and key vectors are repre‐\\\\nsented as vertical bands, where the intensity of each band corresponds to the magni‐\\\\ntude. The connecting lines are weighted according to the attention between the\\\\ntokens, and we can see that the query vector for “flies” has the strongest overlap with\\\\nthe key vector for “arrow” .\\\\nThe Encoder | 63\\' metadata={\\'source\\': \\'/content/natural-language-processing-with-transformers-revised-edition-1098136799-9781098136796-9781098103248.pdf\\', \\'page\\': 86}')]\n"
          ]
        }
      ],
      "source": [
        "x4 = final_result(\"What is Scaled dot-product attention\")\n",
        "print(x4[\"query\"])\n",
        "print(\"=\"*20)\n",
        "print(x4[\"result\"])\n",
        "print(\"=\"*20)\n",
        "print(x4[\"source_documents\"])"
      ]
    },
    {
      "cell_type": "code",
      "source": [],
      "metadata": {
        "id": "yewqDO5EeFaK"
      },
      "id": "yewqDO5EeFaK",
      "execution_count": null,
      "outputs": []
    }
  ],
  "metadata": {
    "accelerator": "GPU",
    "colab": {
      "gpuType": "T4",
      "provenance": []
    },
    "kernelspec": {
      "display_name": "pytorch",
      "language": "python",
      "name": "pytorch"
    },
    "language_info": {
      "codemirror_mode": {
        "name": "ipython",
        "version": 3
      },
      "file_extension": ".py",
      "mimetype": "text/x-python",
      "name": "python",
      "nbconvert_exporter": "python",
      "pygments_lexer": "ipython3",
      "version": "3.9.16"
    },
    "widgets": {
      "application/vnd.jupyter.widget-state+json": {
        "0de72095c9934474ae74d0baf27aea9f": {
          "model_module": "@jupyter-widgets/controls",
          "model_name": "HBoxModel",
          "model_module_version": "1.5.0",
          "state": {
            "_dom_classes": [],
            "_model_module": "@jupyter-widgets/controls",
            "_model_module_version": "1.5.0",
            "_model_name": "HBoxModel",
            "_view_count": null,
            "_view_module": "@jupyter-widgets/controls",
            "_view_module_version": "1.5.0",
            "_view_name": "HBoxView",
            "box_style": "",
            "children": [
              "IPY_MODEL_426708bcc18847e6bc0178a7fc07261c",
              "IPY_MODEL_4e0ca6ffbe934ef3a89b729fef0a1f22",
              "IPY_MODEL_b3f8a16afab243e78e0f524a059b6e05"
            ],
            "layout": "IPY_MODEL_ea5edc5809784602add39cf95fe7de00"
          }
        },
        "426708bcc18847e6bc0178a7fc07261c": {
          "model_module": "@jupyter-widgets/controls",
          "model_name": "HTMLModel",
          "model_module_version": "1.5.0",
          "state": {
            "_dom_classes": [],
            "_model_module": "@jupyter-widgets/controls",
            "_model_module_version": "1.5.0",
            "_model_name": "HTMLModel",
            "_view_count": null,
            "_view_module": "@jupyter-widgets/controls",
            "_view_module_version": "1.5.0",
            "_view_name": "HTMLView",
            "description": "",
            "description_tooltip": null,
            "layout": "IPY_MODEL_b0b341fdbdd04865936b846b1dc5a62f",
            "placeholder": "​",
            "style": "IPY_MODEL_375b947c31d54eae8e709223c2aa33dd",
            "value": "model.safetensors.index.json: 100%"
          }
        },
        "4e0ca6ffbe934ef3a89b729fef0a1f22": {
          "model_module": "@jupyter-widgets/controls",
          "model_name": "FloatProgressModel",
          "model_module_version": "1.5.0",
          "state": {
            "_dom_classes": [],
            "_model_module": "@jupyter-widgets/controls",
            "_model_module_version": "1.5.0",
            "_model_name": "FloatProgressModel",
            "_view_count": null,
            "_view_module": "@jupyter-widgets/controls",
            "_view_module_version": "1.5.0",
            "_view_name": "ProgressView",
            "bar_style": "success",
            "description": "",
            "description_tooltip": null,
            "layout": "IPY_MODEL_114c743d036e458291e0a2773727d773",
            "max": 26788,
            "min": 0,
            "orientation": "horizontal",
            "style": "IPY_MODEL_e23d5d26f417477a8ec5a5eca0ed7024",
            "value": 26788
          }
        },
        "b3f8a16afab243e78e0f524a059b6e05": {
          "model_module": "@jupyter-widgets/controls",
          "model_name": "HTMLModel",
          "model_module_version": "1.5.0",
          "state": {
            "_dom_classes": [],
            "_model_module": "@jupyter-widgets/controls",
            "_model_module_version": "1.5.0",
            "_model_name": "HTMLModel",
            "_view_count": null,
            "_view_module": "@jupyter-widgets/controls",
            "_view_module_version": "1.5.0",
            "_view_name": "HTMLView",
            "description": "",
            "description_tooltip": null,
            "layout": "IPY_MODEL_03cf12d156494fc2876c37f9b059db79",
            "placeholder": "​",
            "style": "IPY_MODEL_5bfa366a67fb49f996624a8ba4623fd2",
            "value": " 26.8k/26.8k [00:00&lt;00:00, 1.29MB/s]"
          }
        },
        "ea5edc5809784602add39cf95fe7de00": {
          "model_module": "@jupyter-widgets/base",
          "model_name": "LayoutModel",
          "model_module_version": "1.2.0",
          "state": {
            "_model_module": "@jupyter-widgets/base",
            "_model_module_version": "1.2.0",
            "_model_name": "LayoutModel",
            "_view_count": null,
            "_view_module": "@jupyter-widgets/base",
            "_view_module_version": "1.2.0",
            "_view_name": "LayoutView",
            "align_content": null,
            "align_items": null,
            "align_self": null,
            "border": null,
            "bottom": null,
            "display": null,
            "flex": null,
            "flex_flow": null,
            "grid_area": null,
            "grid_auto_columns": null,
            "grid_auto_flow": null,
            "grid_auto_rows": null,
            "grid_column": null,
            "grid_gap": null,
            "grid_row": null,
            "grid_template_areas": null,
            "grid_template_columns": null,
            "grid_template_rows": null,
            "height": null,
            "justify_content": null,
            "justify_items": null,
            "left": null,
            "margin": null,
            "max_height": null,
            "max_width": null,
            "min_height": null,
            "min_width": null,
            "object_fit": null,
            "object_position": null,
            "order": null,
            "overflow": null,
            "overflow_x": null,
            "overflow_y": null,
            "padding": null,
            "right": null,
            "top": null,
            "visibility": null,
            "width": null
          }
        },
        "b0b341fdbdd04865936b846b1dc5a62f": {
          "model_module": "@jupyter-widgets/base",
          "model_name": "LayoutModel",
          "model_module_version": "1.2.0",
          "state": {
            "_model_module": "@jupyter-widgets/base",
            "_model_module_version": "1.2.0",
            "_model_name": "LayoutModel",
            "_view_count": null,
            "_view_module": "@jupyter-widgets/base",
            "_view_module_version": "1.2.0",
            "_view_name": "LayoutView",
            "align_content": null,
            "align_items": null,
            "align_self": null,
            "border": null,
            "bottom": null,
            "display": null,
            "flex": null,
            "flex_flow": null,
            "grid_area": null,
            "grid_auto_columns": null,
            "grid_auto_flow": null,
            "grid_auto_rows": null,
            "grid_column": null,
            "grid_gap": null,
            "grid_row": null,
            "grid_template_areas": null,
            "grid_template_columns": null,
            "grid_template_rows": null,
            "height": null,
            "justify_content": null,
            "justify_items": null,
            "left": null,
            "margin": null,
            "max_height": null,
            "max_width": null,
            "min_height": null,
            "min_width": null,
            "object_fit": null,
            "object_position": null,
            "order": null,
            "overflow": null,
            "overflow_x": null,
            "overflow_y": null,
            "padding": null,
            "right": null,
            "top": null,
            "visibility": null,
            "width": null
          }
        },
        "375b947c31d54eae8e709223c2aa33dd": {
          "model_module": "@jupyter-widgets/controls",
          "model_name": "DescriptionStyleModel",
          "model_module_version": "1.5.0",
          "state": {
            "_model_module": "@jupyter-widgets/controls",
            "_model_module_version": "1.5.0",
            "_model_name": "DescriptionStyleModel",
            "_view_count": null,
            "_view_module": "@jupyter-widgets/base",
            "_view_module_version": "1.2.0",
            "_view_name": "StyleView",
            "description_width": ""
          }
        },
        "114c743d036e458291e0a2773727d773": {
          "model_module": "@jupyter-widgets/base",
          "model_name": "LayoutModel",
          "model_module_version": "1.2.0",
          "state": {
            "_model_module": "@jupyter-widgets/base",
            "_model_module_version": "1.2.0",
            "_model_name": "LayoutModel",
            "_view_count": null,
            "_view_module": "@jupyter-widgets/base",
            "_view_module_version": "1.2.0",
            "_view_name": "LayoutView",
            "align_content": null,
            "align_items": null,
            "align_self": null,
            "border": null,
            "bottom": null,
            "display": null,
            "flex": null,
            "flex_flow": null,
            "grid_area": null,
            "grid_auto_columns": null,
            "grid_auto_flow": null,
            "grid_auto_rows": null,
            "grid_column": null,
            "grid_gap": null,
            "grid_row": null,
            "grid_template_areas": null,
            "grid_template_columns": null,
            "grid_template_rows": null,
            "height": null,
            "justify_content": null,
            "justify_items": null,
            "left": null,
            "margin": null,
            "max_height": null,
            "max_width": null,
            "min_height": null,
            "min_width": null,
            "object_fit": null,
            "object_position": null,
            "order": null,
            "overflow": null,
            "overflow_x": null,
            "overflow_y": null,
            "padding": null,
            "right": null,
            "top": null,
            "visibility": null,
            "width": null
          }
        },
        "e23d5d26f417477a8ec5a5eca0ed7024": {
          "model_module": "@jupyter-widgets/controls",
          "model_name": "ProgressStyleModel",
          "model_module_version": "1.5.0",
          "state": {
            "_model_module": "@jupyter-widgets/controls",
            "_model_module_version": "1.5.0",
            "_model_name": "ProgressStyleModel",
            "_view_count": null,
            "_view_module": "@jupyter-widgets/base",
            "_view_module_version": "1.2.0",
            "_view_name": "StyleView",
            "bar_color": null,
            "description_width": ""
          }
        },
        "03cf12d156494fc2876c37f9b059db79": {
          "model_module": "@jupyter-widgets/base",
          "model_name": "LayoutModel",
          "model_module_version": "1.2.0",
          "state": {
            "_model_module": "@jupyter-widgets/base",
            "_model_module_version": "1.2.0",
            "_model_name": "LayoutModel",
            "_view_count": null,
            "_view_module": "@jupyter-widgets/base",
            "_view_module_version": "1.2.0",
            "_view_name": "LayoutView",
            "align_content": null,
            "align_items": null,
            "align_self": null,
            "border": null,
            "bottom": null,
            "display": null,
            "flex": null,
            "flex_flow": null,
            "grid_area": null,
            "grid_auto_columns": null,
            "grid_auto_flow": null,
            "grid_auto_rows": null,
            "grid_column": null,
            "grid_gap": null,
            "grid_row": null,
            "grid_template_areas": null,
            "grid_template_columns": null,
            "grid_template_rows": null,
            "height": null,
            "justify_content": null,
            "justify_items": null,
            "left": null,
            "margin": null,
            "max_height": null,
            "max_width": null,
            "min_height": null,
            "min_width": null,
            "object_fit": null,
            "object_position": null,
            "order": null,
            "overflow": null,
            "overflow_x": null,
            "overflow_y": null,
            "padding": null,
            "right": null,
            "top": null,
            "visibility": null,
            "width": null
          }
        },
        "5bfa366a67fb49f996624a8ba4623fd2": {
          "model_module": "@jupyter-widgets/controls",
          "model_name": "DescriptionStyleModel",
          "model_module_version": "1.5.0",
          "state": {
            "_model_module": "@jupyter-widgets/controls",
            "_model_module_version": "1.5.0",
            "_model_name": "DescriptionStyleModel",
            "_view_count": null,
            "_view_module": "@jupyter-widgets/base",
            "_view_module_version": "1.2.0",
            "_view_name": "StyleView",
            "description_width": ""
          }
        },
        "3612863ee9704727b5a5e1b9a651ea6a": {
          "model_module": "@jupyter-widgets/controls",
          "model_name": "HBoxModel",
          "model_module_version": "1.5.0",
          "state": {
            "_dom_classes": [],
            "_model_module": "@jupyter-widgets/controls",
            "_model_module_version": "1.5.0",
            "_model_name": "HBoxModel",
            "_view_count": null,
            "_view_module": "@jupyter-widgets/controls",
            "_view_module_version": "1.5.0",
            "_view_name": "HBoxView",
            "box_style": "",
            "children": [
              "IPY_MODEL_b6fe45a218fd4ed38205819d4d5866df",
              "IPY_MODEL_5de2408639ab4fab82d29fd742a67e06",
              "IPY_MODEL_c1f08cec94924d718b8ee3ef44599021"
            ],
            "layout": "IPY_MODEL_038e359abeb04022b49de7a0a8811296"
          }
        },
        "b6fe45a218fd4ed38205819d4d5866df": {
          "model_module": "@jupyter-widgets/controls",
          "model_name": "HTMLModel",
          "model_module_version": "1.5.0",
          "state": {
            "_dom_classes": [],
            "_model_module": "@jupyter-widgets/controls",
            "_model_module_version": "1.5.0",
            "_model_name": "HTMLModel",
            "_view_count": null,
            "_view_module": "@jupyter-widgets/controls",
            "_view_module_version": "1.5.0",
            "_view_name": "HTMLView",
            "description": "",
            "description_tooltip": null,
            "layout": "IPY_MODEL_63a76048d6cf48d7b133367a92403401",
            "placeholder": "​",
            "style": "IPY_MODEL_84035f9f98914b6a96f652ad47f896e9",
            "value": "Downloading shards: 100%"
          }
        },
        "5de2408639ab4fab82d29fd742a67e06": {
          "model_module": "@jupyter-widgets/controls",
          "model_name": "FloatProgressModel",
          "model_module_version": "1.5.0",
          "state": {
            "_dom_classes": [],
            "_model_module": "@jupyter-widgets/controls",
            "_model_module_version": "1.5.0",
            "_model_name": "FloatProgressModel",
            "_view_count": null,
            "_view_module": "@jupyter-widgets/controls",
            "_view_module_version": "1.5.0",
            "_view_name": "ProgressView",
            "bar_style": "success",
            "description": "",
            "description_tooltip": null,
            "layout": "IPY_MODEL_2dd1942bcaf0465484aafc3dba7f322a",
            "max": 2,
            "min": 0,
            "orientation": "horizontal",
            "style": "IPY_MODEL_a5bf2c962eed43d4a36364b098a0b01d",
            "value": 2
          }
        },
        "c1f08cec94924d718b8ee3ef44599021": {
          "model_module": "@jupyter-widgets/controls",
          "model_name": "HTMLModel",
          "model_module_version": "1.5.0",
          "state": {
            "_dom_classes": [],
            "_model_module": "@jupyter-widgets/controls",
            "_model_module_version": "1.5.0",
            "_model_name": "HTMLModel",
            "_view_count": null,
            "_view_module": "@jupyter-widgets/controls",
            "_view_module_version": "1.5.0",
            "_view_name": "HTMLView",
            "description": "",
            "description_tooltip": null,
            "layout": "IPY_MODEL_a2fb0bf8ad414c7a935805ea3ec27c2e",
            "placeholder": "​",
            "style": "IPY_MODEL_24b3ae8ef030421fb3b93fcd84d6c627",
            "value": " 2/2 [02:13&lt;00:00, 60.18s/it]"
          }
        },
        "038e359abeb04022b49de7a0a8811296": {
          "model_module": "@jupyter-widgets/base",
          "model_name": "LayoutModel",
          "model_module_version": "1.2.0",
          "state": {
            "_model_module": "@jupyter-widgets/base",
            "_model_module_version": "1.2.0",
            "_model_name": "LayoutModel",
            "_view_count": null,
            "_view_module": "@jupyter-widgets/base",
            "_view_module_version": "1.2.0",
            "_view_name": "LayoutView",
            "align_content": null,
            "align_items": null,
            "align_self": null,
            "border": null,
            "bottom": null,
            "display": null,
            "flex": null,
            "flex_flow": null,
            "grid_area": null,
            "grid_auto_columns": null,
            "grid_auto_flow": null,
            "grid_auto_rows": null,
            "grid_column": null,
            "grid_gap": null,
            "grid_row": null,
            "grid_template_areas": null,
            "grid_template_columns": null,
            "grid_template_rows": null,
            "height": null,
            "justify_content": null,
            "justify_items": null,
            "left": null,
            "margin": null,
            "max_height": null,
            "max_width": null,
            "min_height": null,
            "min_width": null,
            "object_fit": null,
            "object_position": null,
            "order": null,
            "overflow": null,
            "overflow_x": null,
            "overflow_y": null,
            "padding": null,
            "right": null,
            "top": null,
            "visibility": null,
            "width": null
          }
        },
        "63a76048d6cf48d7b133367a92403401": {
          "model_module": "@jupyter-widgets/base",
          "model_name": "LayoutModel",
          "model_module_version": "1.2.0",
          "state": {
            "_model_module": "@jupyter-widgets/base",
            "_model_module_version": "1.2.0",
            "_model_name": "LayoutModel",
            "_view_count": null,
            "_view_module": "@jupyter-widgets/base",
            "_view_module_version": "1.2.0",
            "_view_name": "LayoutView",
            "align_content": null,
            "align_items": null,
            "align_self": null,
            "border": null,
            "bottom": null,
            "display": null,
            "flex": null,
            "flex_flow": null,
            "grid_area": null,
            "grid_auto_columns": null,
            "grid_auto_flow": null,
            "grid_auto_rows": null,
            "grid_column": null,
            "grid_gap": null,
            "grid_row": null,
            "grid_template_areas": null,
            "grid_template_columns": null,
            "grid_template_rows": null,
            "height": null,
            "justify_content": null,
            "justify_items": null,
            "left": null,
            "margin": null,
            "max_height": null,
            "max_width": null,
            "min_height": null,
            "min_width": null,
            "object_fit": null,
            "object_position": null,
            "order": null,
            "overflow": null,
            "overflow_x": null,
            "overflow_y": null,
            "padding": null,
            "right": null,
            "top": null,
            "visibility": null,
            "width": null
          }
        },
        "84035f9f98914b6a96f652ad47f896e9": {
          "model_module": "@jupyter-widgets/controls",
          "model_name": "DescriptionStyleModel",
          "model_module_version": "1.5.0",
          "state": {
            "_model_module": "@jupyter-widgets/controls",
            "_model_module_version": "1.5.0",
            "_model_name": "DescriptionStyleModel",
            "_view_count": null,
            "_view_module": "@jupyter-widgets/base",
            "_view_module_version": "1.2.0",
            "_view_name": "StyleView",
            "description_width": ""
          }
        },
        "2dd1942bcaf0465484aafc3dba7f322a": {
          "model_module": "@jupyter-widgets/base",
          "model_name": "LayoutModel",
          "model_module_version": "1.2.0",
          "state": {
            "_model_module": "@jupyter-widgets/base",
            "_model_module_version": "1.2.0",
            "_model_name": "LayoutModel",
            "_view_count": null,
            "_view_module": "@jupyter-widgets/base",
            "_view_module_version": "1.2.0",
            "_view_name": "LayoutView",
            "align_content": null,
            "align_items": null,
            "align_self": null,
            "border": null,
            "bottom": null,
            "display": null,
            "flex": null,
            "flex_flow": null,
            "grid_area": null,
            "grid_auto_columns": null,
            "grid_auto_flow": null,
            "grid_auto_rows": null,
            "grid_column": null,
            "grid_gap": null,
            "grid_row": null,
            "grid_template_areas": null,
            "grid_template_columns": null,
            "grid_template_rows": null,
            "height": null,
            "justify_content": null,
            "justify_items": null,
            "left": null,
            "margin": null,
            "max_height": null,
            "max_width": null,
            "min_height": null,
            "min_width": null,
            "object_fit": null,
            "object_position": null,
            "order": null,
            "overflow": null,
            "overflow_x": null,
            "overflow_y": null,
            "padding": null,
            "right": null,
            "top": null,
            "visibility": null,
            "width": null
          }
        },
        "a5bf2c962eed43d4a36364b098a0b01d": {
          "model_module": "@jupyter-widgets/controls",
          "model_name": "ProgressStyleModel",
          "model_module_version": "1.5.0",
          "state": {
            "_model_module": "@jupyter-widgets/controls",
            "_model_module_version": "1.5.0",
            "_model_name": "ProgressStyleModel",
            "_view_count": null,
            "_view_module": "@jupyter-widgets/base",
            "_view_module_version": "1.2.0",
            "_view_name": "StyleView",
            "bar_color": null,
            "description_width": ""
          }
        },
        "a2fb0bf8ad414c7a935805ea3ec27c2e": {
          "model_module": "@jupyter-widgets/base",
          "model_name": "LayoutModel",
          "model_module_version": "1.2.0",
          "state": {
            "_model_module": "@jupyter-widgets/base",
            "_model_module_version": "1.2.0",
            "_model_name": "LayoutModel",
            "_view_count": null,
            "_view_module": "@jupyter-widgets/base",
            "_view_module_version": "1.2.0",
            "_view_name": "LayoutView",
            "align_content": null,
            "align_items": null,
            "align_self": null,
            "border": null,
            "bottom": null,
            "display": null,
            "flex": null,
            "flex_flow": null,
            "grid_area": null,
            "grid_auto_columns": null,
            "grid_auto_flow": null,
            "grid_auto_rows": null,
            "grid_column": null,
            "grid_gap": null,
            "grid_row": null,
            "grid_template_areas": null,
            "grid_template_columns": null,
            "grid_template_rows": null,
            "height": null,
            "justify_content": null,
            "justify_items": null,
            "left": null,
            "margin": null,
            "max_height": null,
            "max_width": null,
            "min_height": null,
            "min_width": null,
            "object_fit": null,
            "object_position": null,
            "order": null,
            "overflow": null,
            "overflow_x": null,
            "overflow_y": null,
            "padding": null,
            "right": null,
            "top": null,
            "visibility": null,
            "width": null
          }
        },
        "24b3ae8ef030421fb3b93fcd84d6c627": {
          "model_module": "@jupyter-widgets/controls",
          "model_name": "DescriptionStyleModel",
          "model_module_version": "1.5.0",
          "state": {
            "_model_module": "@jupyter-widgets/controls",
            "_model_module_version": "1.5.0",
            "_model_name": "DescriptionStyleModel",
            "_view_count": null,
            "_view_module": "@jupyter-widgets/base",
            "_view_module_version": "1.2.0",
            "_view_name": "StyleView",
            "description_width": ""
          }
        },
        "12f8f9484b0d450d92a832f0931ae1bc": {
          "model_module": "@jupyter-widgets/controls",
          "model_name": "HBoxModel",
          "model_module_version": "1.5.0",
          "state": {
            "_dom_classes": [],
            "_model_module": "@jupyter-widgets/controls",
            "_model_module_version": "1.5.0",
            "_model_name": "HBoxModel",
            "_view_count": null,
            "_view_module": "@jupyter-widgets/controls",
            "_view_module_version": "1.5.0",
            "_view_name": "HBoxView",
            "box_style": "",
            "children": [
              "IPY_MODEL_a2c81c5ffd224b64ab7bde0453d53495",
              "IPY_MODEL_e51ff9349b1844d49e124f33f084ff30",
              "IPY_MODEL_9f34746ed9f74a839a9e22acee84dce8"
            ],
            "layout": "IPY_MODEL_912aae833a394d4e83e6a73e165b25d9"
          }
        },
        "a2c81c5ffd224b64ab7bde0453d53495": {
          "model_module": "@jupyter-widgets/controls",
          "model_name": "HTMLModel",
          "model_module_version": "1.5.0",
          "state": {
            "_dom_classes": [],
            "_model_module": "@jupyter-widgets/controls",
            "_model_module_version": "1.5.0",
            "_model_name": "HTMLModel",
            "_view_count": null,
            "_view_module": "@jupyter-widgets/controls",
            "_view_module_version": "1.5.0",
            "_view_name": "HTMLView",
            "description": "",
            "description_tooltip": null,
            "layout": "IPY_MODEL_2639972c9d354901a06765a7e065251c",
            "placeholder": "​",
            "style": "IPY_MODEL_a755cc6c27bb4ef993c2137e18f26ff7",
            "value": "model-00001-of-00002.safetensors: 100%"
          }
        },
        "e51ff9349b1844d49e124f33f084ff30": {
          "model_module": "@jupyter-widgets/controls",
          "model_name": "FloatProgressModel",
          "model_module_version": "1.5.0",
          "state": {
            "_dom_classes": [],
            "_model_module": "@jupyter-widgets/controls",
            "_model_module_version": "1.5.0",
            "_model_name": "FloatProgressModel",
            "_view_count": null,
            "_view_module": "@jupyter-widgets/controls",
            "_view_module_version": "1.5.0",
            "_view_name": "ProgressView",
            "bar_style": "success",
            "description": "",
            "description_tooltip": null,
            "layout": "IPY_MODEL_90b7ecbcacfc4228900e1ee773512a86",
            "max": 9976576152,
            "min": 0,
            "orientation": "horizontal",
            "style": "IPY_MODEL_b2f22034a6e04b659344bcdf6b63a5fd",
            "value": 9976576152
          }
        },
        "9f34746ed9f74a839a9e22acee84dce8": {
          "model_module": "@jupyter-widgets/controls",
          "model_name": "HTMLModel",
          "model_module_version": "1.5.0",
          "state": {
            "_dom_classes": [],
            "_model_module": "@jupyter-widgets/controls",
            "_model_module_version": "1.5.0",
            "_model_name": "HTMLModel",
            "_view_count": null,
            "_view_module": "@jupyter-widgets/controls",
            "_view_module_version": "1.5.0",
            "_view_name": "HTMLView",
            "description": "",
            "description_tooltip": null,
            "layout": "IPY_MODEL_7e21032664c14a88a5f2cec2a4b10159",
            "placeholder": "​",
            "style": "IPY_MODEL_d966c2f3516a4b058d09364b64286c24",
            "value": " 9.98G/9.98G [01:42&lt;00:00, 161MB/s]"
          }
        },
        "912aae833a394d4e83e6a73e165b25d9": {
          "model_module": "@jupyter-widgets/base",
          "model_name": "LayoutModel",
          "model_module_version": "1.2.0",
          "state": {
            "_model_module": "@jupyter-widgets/base",
            "_model_module_version": "1.2.0",
            "_model_name": "LayoutModel",
            "_view_count": null,
            "_view_module": "@jupyter-widgets/base",
            "_view_module_version": "1.2.0",
            "_view_name": "LayoutView",
            "align_content": null,
            "align_items": null,
            "align_self": null,
            "border": null,
            "bottom": null,
            "display": null,
            "flex": null,
            "flex_flow": null,
            "grid_area": null,
            "grid_auto_columns": null,
            "grid_auto_flow": null,
            "grid_auto_rows": null,
            "grid_column": null,
            "grid_gap": null,
            "grid_row": null,
            "grid_template_areas": null,
            "grid_template_columns": null,
            "grid_template_rows": null,
            "height": null,
            "justify_content": null,
            "justify_items": null,
            "left": null,
            "margin": null,
            "max_height": null,
            "max_width": null,
            "min_height": null,
            "min_width": null,
            "object_fit": null,
            "object_position": null,
            "order": null,
            "overflow": null,
            "overflow_x": null,
            "overflow_y": null,
            "padding": null,
            "right": null,
            "top": null,
            "visibility": null,
            "width": null
          }
        },
        "2639972c9d354901a06765a7e065251c": {
          "model_module": "@jupyter-widgets/base",
          "model_name": "LayoutModel",
          "model_module_version": "1.2.0",
          "state": {
            "_model_module": "@jupyter-widgets/base",
            "_model_module_version": "1.2.0",
            "_model_name": "LayoutModel",
            "_view_count": null,
            "_view_module": "@jupyter-widgets/base",
            "_view_module_version": "1.2.0",
            "_view_name": "LayoutView",
            "align_content": null,
            "align_items": null,
            "align_self": null,
            "border": null,
            "bottom": null,
            "display": null,
            "flex": null,
            "flex_flow": null,
            "grid_area": null,
            "grid_auto_columns": null,
            "grid_auto_flow": null,
            "grid_auto_rows": null,
            "grid_column": null,
            "grid_gap": null,
            "grid_row": null,
            "grid_template_areas": null,
            "grid_template_columns": null,
            "grid_template_rows": null,
            "height": null,
            "justify_content": null,
            "justify_items": null,
            "left": null,
            "margin": null,
            "max_height": null,
            "max_width": null,
            "min_height": null,
            "min_width": null,
            "object_fit": null,
            "object_position": null,
            "order": null,
            "overflow": null,
            "overflow_x": null,
            "overflow_y": null,
            "padding": null,
            "right": null,
            "top": null,
            "visibility": null,
            "width": null
          }
        },
        "a755cc6c27bb4ef993c2137e18f26ff7": {
          "model_module": "@jupyter-widgets/controls",
          "model_name": "DescriptionStyleModel",
          "model_module_version": "1.5.0",
          "state": {
            "_model_module": "@jupyter-widgets/controls",
            "_model_module_version": "1.5.0",
            "_model_name": "DescriptionStyleModel",
            "_view_count": null,
            "_view_module": "@jupyter-widgets/base",
            "_view_module_version": "1.2.0",
            "_view_name": "StyleView",
            "description_width": ""
          }
        },
        "90b7ecbcacfc4228900e1ee773512a86": {
          "model_module": "@jupyter-widgets/base",
          "model_name": "LayoutModel",
          "model_module_version": "1.2.0",
          "state": {
            "_model_module": "@jupyter-widgets/base",
            "_model_module_version": "1.2.0",
            "_model_name": "LayoutModel",
            "_view_count": null,
            "_view_module": "@jupyter-widgets/base",
            "_view_module_version": "1.2.0",
            "_view_name": "LayoutView",
            "align_content": null,
            "align_items": null,
            "align_self": null,
            "border": null,
            "bottom": null,
            "display": null,
            "flex": null,
            "flex_flow": null,
            "grid_area": null,
            "grid_auto_columns": null,
            "grid_auto_flow": null,
            "grid_auto_rows": null,
            "grid_column": null,
            "grid_gap": null,
            "grid_row": null,
            "grid_template_areas": null,
            "grid_template_columns": null,
            "grid_template_rows": null,
            "height": null,
            "justify_content": null,
            "justify_items": null,
            "left": null,
            "margin": null,
            "max_height": null,
            "max_width": null,
            "min_height": null,
            "min_width": null,
            "object_fit": null,
            "object_position": null,
            "order": null,
            "overflow": null,
            "overflow_x": null,
            "overflow_y": null,
            "padding": null,
            "right": null,
            "top": null,
            "visibility": null,
            "width": null
          }
        },
        "b2f22034a6e04b659344bcdf6b63a5fd": {
          "model_module": "@jupyter-widgets/controls",
          "model_name": "ProgressStyleModel",
          "model_module_version": "1.5.0",
          "state": {
            "_model_module": "@jupyter-widgets/controls",
            "_model_module_version": "1.5.0",
            "_model_name": "ProgressStyleModel",
            "_view_count": null,
            "_view_module": "@jupyter-widgets/base",
            "_view_module_version": "1.2.0",
            "_view_name": "StyleView",
            "bar_color": null,
            "description_width": ""
          }
        },
        "7e21032664c14a88a5f2cec2a4b10159": {
          "model_module": "@jupyter-widgets/base",
          "model_name": "LayoutModel",
          "model_module_version": "1.2.0",
          "state": {
            "_model_module": "@jupyter-widgets/base",
            "_model_module_version": "1.2.0",
            "_model_name": "LayoutModel",
            "_view_count": null,
            "_view_module": "@jupyter-widgets/base",
            "_view_module_version": "1.2.0",
            "_view_name": "LayoutView",
            "align_content": null,
            "align_items": null,
            "align_self": null,
            "border": null,
            "bottom": null,
            "display": null,
            "flex": null,
            "flex_flow": null,
            "grid_area": null,
            "grid_auto_columns": null,
            "grid_auto_flow": null,
            "grid_auto_rows": null,
            "grid_column": null,
            "grid_gap": null,
            "grid_row": null,
            "grid_template_areas": null,
            "grid_template_columns": null,
            "grid_template_rows": null,
            "height": null,
            "justify_content": null,
            "justify_items": null,
            "left": null,
            "margin": null,
            "max_height": null,
            "max_width": null,
            "min_height": null,
            "min_width": null,
            "object_fit": null,
            "object_position": null,
            "order": null,
            "overflow": null,
            "overflow_x": null,
            "overflow_y": null,
            "padding": null,
            "right": null,
            "top": null,
            "visibility": null,
            "width": null
          }
        },
        "d966c2f3516a4b058d09364b64286c24": {
          "model_module": "@jupyter-widgets/controls",
          "model_name": "DescriptionStyleModel",
          "model_module_version": "1.5.0",
          "state": {
            "_model_module": "@jupyter-widgets/controls",
            "_model_module_version": "1.5.0",
            "_model_name": "DescriptionStyleModel",
            "_view_count": null,
            "_view_module": "@jupyter-widgets/base",
            "_view_module_version": "1.2.0",
            "_view_name": "StyleView",
            "description_width": ""
          }
        },
        "ffcec2e73dd347f9b0f0b003814a0c28": {
          "model_module": "@jupyter-widgets/controls",
          "model_name": "HBoxModel",
          "model_module_version": "1.5.0",
          "state": {
            "_dom_classes": [],
            "_model_module": "@jupyter-widgets/controls",
            "_model_module_version": "1.5.0",
            "_model_name": "HBoxModel",
            "_view_count": null,
            "_view_module": "@jupyter-widgets/controls",
            "_view_module_version": "1.5.0",
            "_view_name": "HBoxView",
            "box_style": "",
            "children": [
              "IPY_MODEL_2f0794fe543d4a478b1dd7bf96765297",
              "IPY_MODEL_afbab5810a1648678f04791facc7fc65",
              "IPY_MODEL_3f3453e97bf1464c9fbbbb9514870e0a"
            ],
            "layout": "IPY_MODEL_996b4dde9f33447d834eb734eeca40f9"
          }
        },
        "2f0794fe543d4a478b1dd7bf96765297": {
          "model_module": "@jupyter-widgets/controls",
          "model_name": "HTMLModel",
          "model_module_version": "1.5.0",
          "state": {
            "_dom_classes": [],
            "_model_module": "@jupyter-widgets/controls",
            "_model_module_version": "1.5.0",
            "_model_name": "HTMLModel",
            "_view_count": null,
            "_view_module": "@jupyter-widgets/controls",
            "_view_module_version": "1.5.0",
            "_view_name": "HTMLView",
            "description": "",
            "description_tooltip": null,
            "layout": "IPY_MODEL_369c0ae7fa054daabd16552de7b357da",
            "placeholder": "​",
            "style": "IPY_MODEL_8c2429ccb8894f2ab0661eab920728d8",
            "value": "model-00002-of-00002.safetensors: 100%"
          }
        },
        "afbab5810a1648678f04791facc7fc65": {
          "model_module": "@jupyter-widgets/controls",
          "model_name": "FloatProgressModel",
          "model_module_version": "1.5.0",
          "state": {
            "_dom_classes": [],
            "_model_module": "@jupyter-widgets/controls",
            "_model_module_version": "1.5.0",
            "_model_name": "FloatProgressModel",
            "_view_count": null,
            "_view_module": "@jupyter-widgets/controls",
            "_view_module_version": "1.5.0",
            "_view_name": "ProgressView",
            "bar_style": "success",
            "description": "",
            "description_tooltip": null,
            "layout": "IPY_MODEL_9653ba9019c44bf48fa1fa4ffe6be755",
            "max": 3500296424,
            "min": 0,
            "orientation": "horizontal",
            "style": "IPY_MODEL_550fdae2d03a4a25b8ae281d14489412",
            "value": 3500296424
          }
        },
        "3f3453e97bf1464c9fbbbb9514870e0a": {
          "model_module": "@jupyter-widgets/controls",
          "model_name": "HTMLModel",
          "model_module_version": "1.5.0",
          "state": {
            "_dom_classes": [],
            "_model_module": "@jupyter-widgets/controls",
            "_model_module_version": "1.5.0",
            "_model_name": "HTMLModel",
            "_view_count": null,
            "_view_module": "@jupyter-widgets/controls",
            "_view_module_version": "1.5.0",
            "_view_name": "HTMLView",
            "description": "",
            "description_tooltip": null,
            "layout": "IPY_MODEL_fb9045dab4b2491881ea4b59bf24d569",
            "placeholder": "​",
            "style": "IPY_MODEL_8acfa6269bef4692aa93c295e74067ee",
            "value": " 3.50G/3.50G [00:30&lt;00:00, 134MB/s]"
          }
        },
        "996b4dde9f33447d834eb734eeca40f9": {
          "model_module": "@jupyter-widgets/base",
          "model_name": "LayoutModel",
          "model_module_version": "1.2.0",
          "state": {
            "_model_module": "@jupyter-widgets/base",
            "_model_module_version": "1.2.0",
            "_model_name": "LayoutModel",
            "_view_count": null,
            "_view_module": "@jupyter-widgets/base",
            "_view_module_version": "1.2.0",
            "_view_name": "LayoutView",
            "align_content": null,
            "align_items": null,
            "align_self": null,
            "border": null,
            "bottom": null,
            "display": null,
            "flex": null,
            "flex_flow": null,
            "grid_area": null,
            "grid_auto_columns": null,
            "grid_auto_flow": null,
            "grid_auto_rows": null,
            "grid_column": null,
            "grid_gap": null,
            "grid_row": null,
            "grid_template_areas": null,
            "grid_template_columns": null,
            "grid_template_rows": null,
            "height": null,
            "justify_content": null,
            "justify_items": null,
            "left": null,
            "margin": null,
            "max_height": null,
            "max_width": null,
            "min_height": null,
            "min_width": null,
            "object_fit": null,
            "object_position": null,
            "order": null,
            "overflow": null,
            "overflow_x": null,
            "overflow_y": null,
            "padding": null,
            "right": null,
            "top": null,
            "visibility": null,
            "width": null
          }
        },
        "369c0ae7fa054daabd16552de7b357da": {
          "model_module": "@jupyter-widgets/base",
          "model_name": "LayoutModel",
          "model_module_version": "1.2.0",
          "state": {
            "_model_module": "@jupyter-widgets/base",
            "_model_module_version": "1.2.0",
            "_model_name": "LayoutModel",
            "_view_count": null,
            "_view_module": "@jupyter-widgets/base",
            "_view_module_version": "1.2.0",
            "_view_name": "LayoutView",
            "align_content": null,
            "align_items": null,
            "align_self": null,
            "border": null,
            "bottom": null,
            "display": null,
            "flex": null,
            "flex_flow": null,
            "grid_area": null,
            "grid_auto_columns": null,
            "grid_auto_flow": null,
            "grid_auto_rows": null,
            "grid_column": null,
            "grid_gap": null,
            "grid_row": null,
            "grid_template_areas": null,
            "grid_template_columns": null,
            "grid_template_rows": null,
            "height": null,
            "justify_content": null,
            "justify_items": null,
            "left": null,
            "margin": null,
            "max_height": null,
            "max_width": null,
            "min_height": null,
            "min_width": null,
            "object_fit": null,
            "object_position": null,
            "order": null,
            "overflow": null,
            "overflow_x": null,
            "overflow_y": null,
            "padding": null,
            "right": null,
            "top": null,
            "visibility": null,
            "width": null
          }
        },
        "8c2429ccb8894f2ab0661eab920728d8": {
          "model_module": "@jupyter-widgets/controls",
          "model_name": "DescriptionStyleModel",
          "model_module_version": "1.5.0",
          "state": {
            "_model_module": "@jupyter-widgets/controls",
            "_model_module_version": "1.5.0",
            "_model_name": "DescriptionStyleModel",
            "_view_count": null,
            "_view_module": "@jupyter-widgets/base",
            "_view_module_version": "1.2.0",
            "_view_name": "StyleView",
            "description_width": ""
          }
        },
        "9653ba9019c44bf48fa1fa4ffe6be755": {
          "model_module": "@jupyter-widgets/base",
          "model_name": "LayoutModel",
          "model_module_version": "1.2.0",
          "state": {
            "_model_module": "@jupyter-widgets/base",
            "_model_module_version": "1.2.0",
            "_model_name": "LayoutModel",
            "_view_count": null,
            "_view_module": "@jupyter-widgets/base",
            "_view_module_version": "1.2.0",
            "_view_name": "LayoutView",
            "align_content": null,
            "align_items": null,
            "align_self": null,
            "border": null,
            "bottom": null,
            "display": null,
            "flex": null,
            "flex_flow": null,
            "grid_area": null,
            "grid_auto_columns": null,
            "grid_auto_flow": null,
            "grid_auto_rows": null,
            "grid_column": null,
            "grid_gap": null,
            "grid_row": null,
            "grid_template_areas": null,
            "grid_template_columns": null,
            "grid_template_rows": null,
            "height": null,
            "justify_content": null,
            "justify_items": null,
            "left": null,
            "margin": null,
            "max_height": null,
            "max_width": null,
            "min_height": null,
            "min_width": null,
            "object_fit": null,
            "object_position": null,
            "order": null,
            "overflow": null,
            "overflow_x": null,
            "overflow_y": null,
            "padding": null,
            "right": null,
            "top": null,
            "visibility": null,
            "width": null
          }
        },
        "550fdae2d03a4a25b8ae281d14489412": {
          "model_module": "@jupyter-widgets/controls",
          "model_name": "ProgressStyleModel",
          "model_module_version": "1.5.0",
          "state": {
            "_model_module": "@jupyter-widgets/controls",
            "_model_module_version": "1.5.0",
            "_model_name": "ProgressStyleModel",
            "_view_count": null,
            "_view_module": "@jupyter-widgets/base",
            "_view_module_version": "1.2.0",
            "_view_name": "StyleView",
            "bar_color": null,
            "description_width": ""
          }
        },
        "fb9045dab4b2491881ea4b59bf24d569": {
          "model_module": "@jupyter-widgets/base",
          "model_name": "LayoutModel",
          "model_module_version": "1.2.0",
          "state": {
            "_model_module": "@jupyter-widgets/base",
            "_model_module_version": "1.2.0",
            "_model_name": "LayoutModel",
            "_view_count": null,
            "_view_module": "@jupyter-widgets/base",
            "_view_module_version": "1.2.0",
            "_view_name": "LayoutView",
            "align_content": null,
            "align_items": null,
            "align_self": null,
            "border": null,
            "bottom": null,
            "display": null,
            "flex": null,
            "flex_flow": null,
            "grid_area": null,
            "grid_auto_columns": null,
            "grid_auto_flow": null,
            "grid_auto_rows": null,
            "grid_column": null,
            "grid_gap": null,
            "grid_row": null,
            "grid_template_areas": null,
            "grid_template_columns": null,
            "grid_template_rows": null,
            "height": null,
            "justify_content": null,
            "justify_items": null,
            "left": null,
            "margin": null,
            "max_height": null,
            "max_width": null,
            "min_height": null,
            "min_width": null,
            "object_fit": null,
            "object_position": null,
            "order": null,
            "overflow": null,
            "overflow_x": null,
            "overflow_y": null,
            "padding": null,
            "right": null,
            "top": null,
            "visibility": null,
            "width": null
          }
        },
        "8acfa6269bef4692aa93c295e74067ee": {
          "model_module": "@jupyter-widgets/controls",
          "model_name": "DescriptionStyleModel",
          "model_module_version": "1.5.0",
          "state": {
            "_model_module": "@jupyter-widgets/controls",
            "_model_module_version": "1.5.0",
            "_model_name": "DescriptionStyleModel",
            "_view_count": null,
            "_view_module": "@jupyter-widgets/base",
            "_view_module_version": "1.2.0",
            "_view_name": "StyleView",
            "description_width": ""
          }
        },
        "0ef90cb2674b4d7bad4ca4f89187d06c": {
          "model_module": "@jupyter-widgets/controls",
          "model_name": "HBoxModel",
          "model_module_version": "1.5.0",
          "state": {
            "_dom_classes": [],
            "_model_module": "@jupyter-widgets/controls",
            "_model_module_version": "1.5.0",
            "_model_name": "HBoxModel",
            "_view_count": null,
            "_view_module": "@jupyter-widgets/controls",
            "_view_module_version": "1.5.0",
            "_view_name": "HBoxView",
            "box_style": "",
            "children": [
              "IPY_MODEL_ed8589469f504e6da96ec26d0c5c9a41",
              "IPY_MODEL_39445cea0e764d288066fa1f81728ee0",
              "IPY_MODEL_02163445aaad4b08b3ae35d53724d934"
            ],
            "layout": "IPY_MODEL_5879e340c3524e3088917aca3ebb0566"
          }
        },
        "ed8589469f504e6da96ec26d0c5c9a41": {
          "model_module": "@jupyter-widgets/controls",
          "model_name": "HTMLModel",
          "model_module_version": "1.5.0",
          "state": {
            "_dom_classes": [],
            "_model_module": "@jupyter-widgets/controls",
            "_model_module_version": "1.5.0",
            "_model_name": "HTMLModel",
            "_view_count": null,
            "_view_module": "@jupyter-widgets/controls",
            "_view_module_version": "1.5.0",
            "_view_name": "HTMLView",
            "description": "",
            "description_tooltip": null,
            "layout": "IPY_MODEL_921a3ed00b1e4ad5af0bee898bc594ef",
            "placeholder": "​",
            "style": "IPY_MODEL_f14b15755b5048c2a60cb81fa7b6885d",
            "value": "Loading checkpoint shards: 100%"
          }
        },
        "39445cea0e764d288066fa1f81728ee0": {
          "model_module": "@jupyter-widgets/controls",
          "model_name": "FloatProgressModel",
          "model_module_version": "1.5.0",
          "state": {
            "_dom_classes": [],
            "_model_module": "@jupyter-widgets/controls",
            "_model_module_version": "1.5.0",
            "_model_name": "FloatProgressModel",
            "_view_count": null,
            "_view_module": "@jupyter-widgets/controls",
            "_view_module_version": "1.5.0",
            "_view_name": "ProgressView",
            "bar_style": "success",
            "description": "",
            "description_tooltip": null,
            "layout": "IPY_MODEL_b2fc243031cc430fa379416c0c39ebcc",
            "max": 2,
            "min": 0,
            "orientation": "horizontal",
            "style": "IPY_MODEL_68661513c9624ce1b9cf724f4843e4be",
            "value": 2
          }
        },
        "02163445aaad4b08b3ae35d53724d934": {
          "model_module": "@jupyter-widgets/controls",
          "model_name": "HTMLModel",
          "model_module_version": "1.5.0",
          "state": {
            "_dom_classes": [],
            "_model_module": "@jupyter-widgets/controls",
            "_model_module_version": "1.5.0",
            "_model_name": "HTMLModel",
            "_view_count": null,
            "_view_module": "@jupyter-widgets/controls",
            "_view_module_version": "1.5.0",
            "_view_name": "HTMLView",
            "description": "",
            "description_tooltip": null,
            "layout": "IPY_MODEL_057e1889d6fa4c7dbf5a403b73984156",
            "placeholder": "​",
            "style": "IPY_MODEL_5c0ea5c22a5943a0b8a735059b7e11e3",
            "value": " 2/2 [01:03&lt;00:00, 29.09s/it]"
          }
        },
        "5879e340c3524e3088917aca3ebb0566": {
          "model_module": "@jupyter-widgets/base",
          "model_name": "LayoutModel",
          "model_module_version": "1.2.0",
          "state": {
            "_model_module": "@jupyter-widgets/base",
            "_model_module_version": "1.2.0",
            "_model_name": "LayoutModel",
            "_view_count": null,
            "_view_module": "@jupyter-widgets/base",
            "_view_module_version": "1.2.0",
            "_view_name": "LayoutView",
            "align_content": null,
            "align_items": null,
            "align_self": null,
            "border": null,
            "bottom": null,
            "display": null,
            "flex": null,
            "flex_flow": null,
            "grid_area": null,
            "grid_auto_columns": null,
            "grid_auto_flow": null,
            "grid_auto_rows": null,
            "grid_column": null,
            "grid_gap": null,
            "grid_row": null,
            "grid_template_areas": null,
            "grid_template_columns": null,
            "grid_template_rows": null,
            "height": null,
            "justify_content": null,
            "justify_items": null,
            "left": null,
            "margin": null,
            "max_height": null,
            "max_width": null,
            "min_height": null,
            "min_width": null,
            "object_fit": null,
            "object_position": null,
            "order": null,
            "overflow": null,
            "overflow_x": null,
            "overflow_y": null,
            "padding": null,
            "right": null,
            "top": null,
            "visibility": null,
            "width": null
          }
        },
        "921a3ed00b1e4ad5af0bee898bc594ef": {
          "model_module": "@jupyter-widgets/base",
          "model_name": "LayoutModel",
          "model_module_version": "1.2.0",
          "state": {
            "_model_module": "@jupyter-widgets/base",
            "_model_module_version": "1.2.0",
            "_model_name": "LayoutModel",
            "_view_count": null,
            "_view_module": "@jupyter-widgets/base",
            "_view_module_version": "1.2.0",
            "_view_name": "LayoutView",
            "align_content": null,
            "align_items": null,
            "align_self": null,
            "border": null,
            "bottom": null,
            "display": null,
            "flex": null,
            "flex_flow": null,
            "grid_area": null,
            "grid_auto_columns": null,
            "grid_auto_flow": null,
            "grid_auto_rows": null,
            "grid_column": null,
            "grid_gap": null,
            "grid_row": null,
            "grid_template_areas": null,
            "grid_template_columns": null,
            "grid_template_rows": null,
            "height": null,
            "justify_content": null,
            "justify_items": null,
            "left": null,
            "margin": null,
            "max_height": null,
            "max_width": null,
            "min_height": null,
            "min_width": null,
            "object_fit": null,
            "object_position": null,
            "order": null,
            "overflow": null,
            "overflow_x": null,
            "overflow_y": null,
            "padding": null,
            "right": null,
            "top": null,
            "visibility": null,
            "width": null
          }
        },
        "f14b15755b5048c2a60cb81fa7b6885d": {
          "model_module": "@jupyter-widgets/controls",
          "model_name": "DescriptionStyleModel",
          "model_module_version": "1.5.0",
          "state": {
            "_model_module": "@jupyter-widgets/controls",
            "_model_module_version": "1.5.0",
            "_model_name": "DescriptionStyleModel",
            "_view_count": null,
            "_view_module": "@jupyter-widgets/base",
            "_view_module_version": "1.2.0",
            "_view_name": "StyleView",
            "description_width": ""
          }
        },
        "b2fc243031cc430fa379416c0c39ebcc": {
          "model_module": "@jupyter-widgets/base",
          "model_name": "LayoutModel",
          "model_module_version": "1.2.0",
          "state": {
            "_model_module": "@jupyter-widgets/base",
            "_model_module_version": "1.2.0",
            "_model_name": "LayoutModel",
            "_view_count": null,
            "_view_module": "@jupyter-widgets/base",
            "_view_module_version": "1.2.0",
            "_view_name": "LayoutView",
            "align_content": null,
            "align_items": null,
            "align_self": null,
            "border": null,
            "bottom": null,
            "display": null,
            "flex": null,
            "flex_flow": null,
            "grid_area": null,
            "grid_auto_columns": null,
            "grid_auto_flow": null,
            "grid_auto_rows": null,
            "grid_column": null,
            "grid_gap": null,
            "grid_row": null,
            "grid_template_areas": null,
            "grid_template_columns": null,
            "grid_template_rows": null,
            "height": null,
            "justify_content": null,
            "justify_items": null,
            "left": null,
            "margin": null,
            "max_height": null,
            "max_width": null,
            "min_height": null,
            "min_width": null,
            "object_fit": null,
            "object_position": null,
            "order": null,
            "overflow": null,
            "overflow_x": null,
            "overflow_y": null,
            "padding": null,
            "right": null,
            "top": null,
            "visibility": null,
            "width": null
          }
        },
        "68661513c9624ce1b9cf724f4843e4be": {
          "model_module": "@jupyter-widgets/controls",
          "model_name": "ProgressStyleModel",
          "model_module_version": "1.5.0",
          "state": {
            "_model_module": "@jupyter-widgets/controls",
            "_model_module_version": "1.5.0",
            "_model_name": "ProgressStyleModel",
            "_view_count": null,
            "_view_module": "@jupyter-widgets/base",
            "_view_module_version": "1.2.0",
            "_view_name": "StyleView",
            "bar_color": null,
            "description_width": ""
          }
        },
        "057e1889d6fa4c7dbf5a403b73984156": {
          "model_module": "@jupyter-widgets/base",
          "model_name": "LayoutModel",
          "model_module_version": "1.2.0",
          "state": {
            "_model_module": "@jupyter-widgets/base",
            "_model_module_version": "1.2.0",
            "_model_name": "LayoutModel",
            "_view_count": null,
            "_view_module": "@jupyter-widgets/base",
            "_view_module_version": "1.2.0",
            "_view_name": "LayoutView",
            "align_content": null,
            "align_items": null,
            "align_self": null,
            "border": null,
            "bottom": null,
            "display": null,
            "flex": null,
            "flex_flow": null,
            "grid_area": null,
            "grid_auto_columns": null,
            "grid_auto_flow": null,
            "grid_auto_rows": null,
            "grid_column": null,
            "grid_gap": null,
            "grid_row": null,
            "grid_template_areas": null,
            "grid_template_columns": null,
            "grid_template_rows": null,
            "height": null,
            "justify_content": null,
            "justify_items": null,
            "left": null,
            "margin": null,
            "max_height": null,
            "max_width": null,
            "min_height": null,
            "min_width": null,
            "object_fit": null,
            "object_position": null,
            "order": null,
            "overflow": null,
            "overflow_x": null,
            "overflow_y": null,
            "padding": null,
            "right": null,
            "top": null,
            "visibility": null,
            "width": null
          }
        },
        "5c0ea5c22a5943a0b8a735059b7e11e3": {
          "model_module": "@jupyter-widgets/controls",
          "model_name": "DescriptionStyleModel",
          "model_module_version": "1.5.0",
          "state": {
            "_model_module": "@jupyter-widgets/controls",
            "_model_module_version": "1.5.0",
            "_model_name": "DescriptionStyleModel",
            "_view_count": null,
            "_view_module": "@jupyter-widgets/base",
            "_view_module_version": "1.2.0",
            "_view_name": "StyleView",
            "description_width": ""
          }
        },
        "ff88507fb14b4843982a227197534249": {
          "model_module": "@jupyter-widgets/controls",
          "model_name": "HBoxModel",
          "model_module_version": "1.5.0",
          "state": {
            "_dom_classes": [],
            "_model_module": "@jupyter-widgets/controls",
            "_model_module_version": "1.5.0",
            "_model_name": "HBoxModel",
            "_view_count": null,
            "_view_module": "@jupyter-widgets/controls",
            "_view_module_version": "1.5.0",
            "_view_name": "HBoxView",
            "box_style": "",
            "children": [
              "IPY_MODEL_31659dbef98c435eb6fb6129c6687642",
              "IPY_MODEL_963d97c8bc044d5c9596e5067710e874",
              "IPY_MODEL_700d2df783d04ad09b7f06ee892813b7"
            ],
            "layout": "IPY_MODEL_66dcb1927b214d48a9c8e641b3bf0ac9"
          }
        },
        "31659dbef98c435eb6fb6129c6687642": {
          "model_module": "@jupyter-widgets/controls",
          "model_name": "HTMLModel",
          "model_module_version": "1.5.0",
          "state": {
            "_dom_classes": [],
            "_model_module": "@jupyter-widgets/controls",
            "_model_module_version": "1.5.0",
            "_model_name": "HTMLModel",
            "_view_count": null,
            "_view_module": "@jupyter-widgets/controls",
            "_view_module_version": "1.5.0",
            "_view_name": "HTMLView",
            "description": "",
            "description_tooltip": null,
            "layout": "IPY_MODEL_026390c6713e4c8591d52f004b9c9dd1",
            "placeholder": "​",
            "style": "IPY_MODEL_76b885b487fa429ab6ac19195484acbc",
            "value": "generation_config.json: 100%"
          }
        },
        "963d97c8bc044d5c9596e5067710e874": {
          "model_module": "@jupyter-widgets/controls",
          "model_name": "FloatProgressModel",
          "model_module_version": "1.5.0",
          "state": {
            "_dom_classes": [],
            "_model_module": "@jupyter-widgets/controls",
            "_model_module_version": "1.5.0",
            "_model_name": "FloatProgressModel",
            "_view_count": null,
            "_view_module": "@jupyter-widgets/controls",
            "_view_module_version": "1.5.0",
            "_view_name": "ProgressView",
            "bar_style": "success",
            "description": "",
            "description_tooltip": null,
            "layout": "IPY_MODEL_57ce645d58674f9fa8cc1cc55803169b",
            "max": 188,
            "min": 0,
            "orientation": "horizontal",
            "style": "IPY_MODEL_1b3920dfe39d4aee8d059c088a1574f4",
            "value": 188
          }
        },
        "700d2df783d04ad09b7f06ee892813b7": {
          "model_module": "@jupyter-widgets/controls",
          "model_name": "HTMLModel",
          "model_module_version": "1.5.0",
          "state": {
            "_dom_classes": [],
            "_model_module": "@jupyter-widgets/controls",
            "_model_module_version": "1.5.0",
            "_model_name": "HTMLModel",
            "_view_count": null,
            "_view_module": "@jupyter-widgets/controls",
            "_view_module_version": "1.5.0",
            "_view_name": "HTMLView",
            "description": "",
            "description_tooltip": null,
            "layout": "IPY_MODEL_243ccd296c4d4ee3a79ef9564ff5fee0",
            "placeholder": "​",
            "style": "IPY_MODEL_d65f733f0eed4f58b1aa0da4765701c6",
            "value": " 188/188 [00:00&lt;00:00, 4.72kB/s]"
          }
        },
        "66dcb1927b214d48a9c8e641b3bf0ac9": {
          "model_module": "@jupyter-widgets/base",
          "model_name": "LayoutModel",
          "model_module_version": "1.2.0",
          "state": {
            "_model_module": "@jupyter-widgets/base",
            "_model_module_version": "1.2.0",
            "_model_name": "LayoutModel",
            "_view_count": null,
            "_view_module": "@jupyter-widgets/base",
            "_view_module_version": "1.2.0",
            "_view_name": "LayoutView",
            "align_content": null,
            "align_items": null,
            "align_self": null,
            "border": null,
            "bottom": null,
            "display": null,
            "flex": null,
            "flex_flow": null,
            "grid_area": null,
            "grid_auto_columns": null,
            "grid_auto_flow": null,
            "grid_auto_rows": null,
            "grid_column": null,
            "grid_gap": null,
            "grid_row": null,
            "grid_template_areas": null,
            "grid_template_columns": null,
            "grid_template_rows": null,
            "height": null,
            "justify_content": null,
            "justify_items": null,
            "left": null,
            "margin": null,
            "max_height": null,
            "max_width": null,
            "min_height": null,
            "min_width": null,
            "object_fit": null,
            "object_position": null,
            "order": null,
            "overflow": null,
            "overflow_x": null,
            "overflow_y": null,
            "padding": null,
            "right": null,
            "top": null,
            "visibility": null,
            "width": null
          }
        },
        "026390c6713e4c8591d52f004b9c9dd1": {
          "model_module": "@jupyter-widgets/base",
          "model_name": "LayoutModel",
          "model_module_version": "1.2.0",
          "state": {
            "_model_module": "@jupyter-widgets/base",
            "_model_module_version": "1.2.0",
            "_model_name": "LayoutModel",
            "_view_count": null,
            "_view_module": "@jupyter-widgets/base",
            "_view_module_version": "1.2.0",
            "_view_name": "LayoutView",
            "align_content": null,
            "align_items": null,
            "align_self": null,
            "border": null,
            "bottom": null,
            "display": null,
            "flex": null,
            "flex_flow": null,
            "grid_area": null,
            "grid_auto_columns": null,
            "grid_auto_flow": null,
            "grid_auto_rows": null,
            "grid_column": null,
            "grid_gap": null,
            "grid_row": null,
            "grid_template_areas": null,
            "grid_template_columns": null,
            "grid_template_rows": null,
            "height": null,
            "justify_content": null,
            "justify_items": null,
            "left": null,
            "margin": null,
            "max_height": null,
            "max_width": null,
            "min_height": null,
            "min_width": null,
            "object_fit": null,
            "object_position": null,
            "order": null,
            "overflow": null,
            "overflow_x": null,
            "overflow_y": null,
            "padding": null,
            "right": null,
            "top": null,
            "visibility": null,
            "width": null
          }
        },
        "76b885b487fa429ab6ac19195484acbc": {
          "model_module": "@jupyter-widgets/controls",
          "model_name": "DescriptionStyleModel",
          "model_module_version": "1.5.0",
          "state": {
            "_model_module": "@jupyter-widgets/controls",
            "_model_module_version": "1.5.0",
            "_model_name": "DescriptionStyleModel",
            "_view_count": null,
            "_view_module": "@jupyter-widgets/base",
            "_view_module_version": "1.2.0",
            "_view_name": "StyleView",
            "description_width": ""
          }
        },
        "57ce645d58674f9fa8cc1cc55803169b": {
          "model_module": "@jupyter-widgets/base",
          "model_name": "LayoutModel",
          "model_module_version": "1.2.0",
          "state": {
            "_model_module": "@jupyter-widgets/base",
            "_model_module_version": "1.2.0",
            "_model_name": "LayoutModel",
            "_view_count": null,
            "_view_module": "@jupyter-widgets/base",
            "_view_module_version": "1.2.0",
            "_view_name": "LayoutView",
            "align_content": null,
            "align_items": null,
            "align_self": null,
            "border": null,
            "bottom": null,
            "display": null,
            "flex": null,
            "flex_flow": null,
            "grid_area": null,
            "grid_auto_columns": null,
            "grid_auto_flow": null,
            "grid_auto_rows": null,
            "grid_column": null,
            "grid_gap": null,
            "grid_row": null,
            "grid_template_areas": null,
            "grid_template_columns": null,
            "grid_template_rows": null,
            "height": null,
            "justify_content": null,
            "justify_items": null,
            "left": null,
            "margin": null,
            "max_height": null,
            "max_width": null,
            "min_height": null,
            "min_width": null,
            "object_fit": null,
            "object_position": null,
            "order": null,
            "overflow": null,
            "overflow_x": null,
            "overflow_y": null,
            "padding": null,
            "right": null,
            "top": null,
            "visibility": null,
            "width": null
          }
        },
        "1b3920dfe39d4aee8d059c088a1574f4": {
          "model_module": "@jupyter-widgets/controls",
          "model_name": "ProgressStyleModel",
          "model_module_version": "1.5.0",
          "state": {
            "_model_module": "@jupyter-widgets/controls",
            "_model_module_version": "1.5.0",
            "_model_name": "ProgressStyleModel",
            "_view_count": null,
            "_view_module": "@jupyter-widgets/base",
            "_view_module_version": "1.2.0",
            "_view_name": "StyleView",
            "bar_color": null,
            "description_width": ""
          }
        },
        "243ccd296c4d4ee3a79ef9564ff5fee0": {
          "model_module": "@jupyter-widgets/base",
          "model_name": "LayoutModel",
          "model_module_version": "1.2.0",
          "state": {
            "_model_module": "@jupyter-widgets/base",
            "_model_module_version": "1.2.0",
            "_model_name": "LayoutModel",
            "_view_count": null,
            "_view_module": "@jupyter-widgets/base",
            "_view_module_version": "1.2.0",
            "_view_name": "LayoutView",
            "align_content": null,
            "align_items": null,
            "align_self": null,
            "border": null,
            "bottom": null,
            "display": null,
            "flex": null,
            "flex_flow": null,
            "grid_area": null,
            "grid_auto_columns": null,
            "grid_auto_flow": null,
            "grid_auto_rows": null,
            "grid_column": null,
            "grid_gap": null,
            "grid_row": null,
            "grid_template_areas": null,
            "grid_template_columns": null,
            "grid_template_rows": null,
            "height": null,
            "justify_content": null,
            "justify_items": null,
            "left": null,
            "margin": null,
            "max_height": null,
            "max_width": null,
            "min_height": null,
            "min_width": null,
            "object_fit": null,
            "object_position": null,
            "order": null,
            "overflow": null,
            "overflow_x": null,
            "overflow_y": null,
            "padding": null,
            "right": null,
            "top": null,
            "visibility": null,
            "width": null
          }
        },
        "d65f733f0eed4f58b1aa0da4765701c6": {
          "model_module": "@jupyter-widgets/controls",
          "model_name": "DescriptionStyleModel",
          "model_module_version": "1.5.0",
          "state": {
            "_model_module": "@jupyter-widgets/controls",
            "_model_module_version": "1.5.0",
            "_model_name": "DescriptionStyleModel",
            "_view_count": null,
            "_view_module": "@jupyter-widgets/base",
            "_view_module_version": "1.2.0",
            "_view_name": "StyleView",
            "description_width": ""
          }
        }
      }
    }
  },
  "nbformat": 4,
  "nbformat_minor": 5
}